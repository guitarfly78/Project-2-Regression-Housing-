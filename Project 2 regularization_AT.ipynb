{
 "cells": [
  {
   "cell_type": "code",
   "execution_count": 166,
   "metadata": {},
   "outputs": [
    {
     "data": {
      "text/html": [
       "<style>#notebook { padding-top:0px !important; } .container { width:100% !important; } .end_space { min-height:0px !important; } </style>"
      ],
      "text/plain": [
       "<IPython.core.display.HTML object>"
      ]
     },
     "metadata": {},
     "output_type": "display_data"
    },
    {
     "name": "stdout",
     "output_type": "stream",
     "text": [
      "Populating the interactive namespace from numpy and matplotlib\n"
     ]
    }
   ],
   "source": [
    "from IPython.core.display import display, HTML\n",
    "display(HTML(\n",
    "    '<style>'\n",
    "        '#notebook { padding-top:0px !important; } ' \n",
    "        '.container { width:100% !important; } '\n",
    "        '.end_space { min-height:0px !important; } '\n",
    "    '</style>'\n",
    "))\n",
    "\n",
    "\n",
    "%pylab inline\n",
    "#% config InlineBackend.figure_format = 'svg'\n",
    "\n",
    "import pandas as pd\n",
    "import seaborn as sns\n",
    "sns.set()\n",
    "\n",
    "from sklearn.model_selection import train_test_split\n",
    "from sklearn.linear_model import LinearRegression, Lasso, LassoCV, Ridge, RidgeCV\n",
    "from sklearn.metrics import r2_score"
   ]
  },
  {
   "cell_type": "code",
   "execution_count": 252,
   "metadata": {},
   "outputs": [],
   "source": [
    "#Load clean_link_main_list_df.csv file\n",
    "clean_df=pd.read_csv(\"C:\\\\Users\\\\Admin\\\\clean_link_main_list_df.csv\")"
   ]
  },
  {
   "cell_type": "code",
   "execution_count": 253,
   "metadata": {},
   "outputs": [
    {
     "name": "stdout",
     "output_type": "stream",
     "text": [
      "<class 'pandas.core.frame.DataFrame'>\n",
      "RangeIndex: 612 entries, 0 to 611\n",
      "Data columns (total 11 columns):\n",
      " #   Column          Non-Null Count  Dtype  \n",
      "---  ------          --------------  -----  \n",
      " 0   Unnamed: 0      612 non-null    int64  \n",
      " 1   Web_link        612 non-null    object \n",
      " 2   Property_Name   612 non-null    object \n",
      " 3   price           612 non-null    int64  \n",
      " 4   no_of_bedrms    612 non-null    int64  \n",
      " 5   no_of_bathrms   612 non-null    int64  \n",
      " 6   Floor_Area      612 non-null    int64  \n",
      " 7   Type            612 non-null    object \n",
      " 8   Age             612 non-null    float64\n",
      " 9   log_price       612 non-null    float64\n",
      " 10  log_Floor_Area  612 non-null    float64\n",
      "dtypes: float64(3), int64(5), object(3)\n",
      "memory usage: 52.7+ KB\n"
     ]
    }
   ],
   "source": [
    "# check for missing data\n",
    "clean_df.info()"
   ]
  },
  {
   "cell_type": "code",
   "execution_count": 254,
   "metadata": {},
   "outputs": [
    {
     "data": {
      "text/plain": [
       "(612, 10)"
      ]
     },
     "execution_count": 254,
     "metadata": {},
     "output_type": "execute_result"
    }
   ],
   "source": [
    "# remove unwanted columns\n",
    "clean_df=clean_df.drop( \"Unnamed: 0\",1)\n",
    "clean_df.shape"
   ]
  },
  {
   "cell_type": "code",
   "execution_count": 255,
   "metadata": {},
   "outputs": [],
   "source": [
    "clean_df = clean_df.loc[clean_df['Floor_Area'] <= 3000,:]"
   ]
  },
  {
   "cell_type": "code",
   "execution_count": 256,
   "metadata": {},
   "outputs": [],
   "source": [
    "clean_df = clean_df.loc[clean_df['price'] <= 2000000,:]"
   ]
  },
  {
   "cell_type": "code",
   "execution_count": 257,
   "metadata": {},
   "outputs": [
    {
     "data": {
      "text/plain": [
       "Index(['Web_link', 'Property_Name', 'price', 'no_of_bedrms', 'no_of_bathrms',\n",
       "       'Floor_Area', 'Type', 'Age', 'log_price', 'log_Floor_Area'],\n",
       "      dtype='object')"
      ]
     },
     "execution_count": 257,
     "metadata": {},
     "output_type": "execute_result"
    }
   ],
   "source": [
    "clean_df.columns"
   ]
  },
  {
   "cell_type": "code",
   "execution_count": 258,
   "metadata": {},
   "outputs": [],
   "source": [
    "limited_df= clean_df.loc[:,['price', 'no_of_bedrms', 'no_of_bathrms',\n",
    "       'Floor_Area', 'Age']]\n",
    "# Less 'Type', log_price', 'log_Floor_Area'"
   ]
  },
  {
   "cell_type": "code",
   "execution_count": 259,
   "metadata": {},
   "outputs": [
    {
     "data": {
      "text/html": [
       "<div>\n",
       "<style scoped>\n",
       "    .dataframe tbody tr th:only-of-type {\n",
       "        vertical-align: middle;\n",
       "    }\n",
       "\n",
       "    .dataframe tbody tr th {\n",
       "        vertical-align: top;\n",
       "    }\n",
       "\n",
       "    .dataframe thead th {\n",
       "        text-align: right;\n",
       "    }\n",
       "</style>\n",
       "<table border=\"1\" class=\"dataframe\">\n",
       "  <thead>\n",
       "    <tr style=\"text-align: right;\">\n",
       "      <th></th>\n",
       "      <th>price</th>\n",
       "      <th>no_of_bedrms</th>\n",
       "      <th>no_of_bathrms</th>\n",
       "      <th>Floor_Area</th>\n",
       "      <th>Age</th>\n",
       "    </tr>\n",
       "  </thead>\n",
       "  <tbody>\n",
       "    <tr>\n",
       "      <th>count</th>\n",
       "      <td>4.770000e+02</td>\n",
       "      <td>477.000000</td>\n",
       "      <td>477.000000</td>\n",
       "      <td>477.000000</td>\n",
       "      <td>477.000000</td>\n",
       "    </tr>\n",
       "    <tr>\n",
       "      <th>mean</th>\n",
       "      <td>9.721759e+05</td>\n",
       "      <td>2.553459</td>\n",
       "      <td>1.995807</td>\n",
       "      <td>1028.064990</td>\n",
       "      <td>13.524109</td>\n",
       "    </tr>\n",
       "    <tr>\n",
       "      <th>std</th>\n",
       "      <td>4.395943e+05</td>\n",
       "      <td>0.886271</td>\n",
       "      <td>0.695108</td>\n",
       "      <td>371.400713</td>\n",
       "      <td>12.966908</td>\n",
       "    </tr>\n",
       "    <tr>\n",
       "      <th>min</th>\n",
       "      <td>2.520000e+05</td>\n",
       "      <td>1.000000</td>\n",
       "      <td>1.000000</td>\n",
       "      <td>344.000000</td>\n",
       "      <td>1.000000</td>\n",
       "    </tr>\n",
       "    <tr>\n",
       "      <th>25%</th>\n",
       "      <td>6.200000e+05</td>\n",
       "      <td>2.000000</td>\n",
       "      <td>2.000000</td>\n",
       "      <td>786.000000</td>\n",
       "      <td>5.000000</td>\n",
       "    </tr>\n",
       "    <tr>\n",
       "      <th>50%</th>\n",
       "      <td>8.500000e+05</td>\n",
       "      <td>3.000000</td>\n",
       "      <td>2.000000</td>\n",
       "      <td>1001.000000</td>\n",
       "      <td>7.000000</td>\n",
       "    </tr>\n",
       "    <tr>\n",
       "      <th>75%</th>\n",
       "      <td>1.280000e+06</td>\n",
       "      <td>3.000000</td>\n",
       "      <td>2.000000</td>\n",
       "      <td>1216.000000</td>\n",
       "      <td>21.000000</td>\n",
       "    </tr>\n",
       "    <tr>\n",
       "      <th>max</th>\n",
       "      <td>2.000000e+06</td>\n",
       "      <td>6.000000</td>\n",
       "      <td>5.000000</td>\n",
       "      <td>2700.000000</td>\n",
       "      <td>83.000000</td>\n",
       "    </tr>\n",
       "  </tbody>\n",
       "</table>\n",
       "</div>"
      ],
      "text/plain": [
       "              price  no_of_bedrms  no_of_bathrms   Floor_Area         Age\n",
       "count  4.770000e+02    477.000000     477.000000   477.000000  477.000000\n",
       "mean   9.721759e+05      2.553459       1.995807  1028.064990   13.524109\n",
       "std    4.395943e+05      0.886271       0.695108   371.400713   12.966908\n",
       "min    2.520000e+05      1.000000       1.000000   344.000000    1.000000\n",
       "25%    6.200000e+05      2.000000       2.000000   786.000000    5.000000\n",
       "50%    8.500000e+05      3.000000       2.000000  1001.000000    7.000000\n",
       "75%    1.280000e+06      3.000000       2.000000  1216.000000   21.000000\n",
       "max    2.000000e+06      6.000000       5.000000  2700.000000   83.000000"
      ]
     },
     "execution_count": 259,
     "metadata": {},
     "output_type": "execute_result"
    }
   ],
   "source": [
    "limited_df.describe()"
   ]
  },
  {
   "cell_type": "code",
   "execution_count": 260,
   "metadata": {},
   "outputs": [
    {
     "name": "stdout",
     "output_type": "stream",
     "text": [
      "<class 'pandas.core.frame.DataFrame'>\n",
      "Int64Index: 477 entries, 0 to 610\n",
      "Data columns (total 5 columns):\n",
      " #   Column         Non-Null Count  Dtype  \n",
      "---  ------         --------------  -----  \n",
      " 0   price          477 non-null    int64  \n",
      " 1   no_of_bedrms   477 non-null    int64  \n",
      " 2   no_of_bathrms  477 non-null    int64  \n",
      " 3   Floor_Area     477 non-null    int64  \n",
      " 4   Age            477 non-null    float64\n",
      "dtypes: float64(1), int64(4)\n",
      "memory usage: 22.4 KB\n"
     ]
    }
   ],
   "source": [
    "limited_df.info()"
   ]
  },
  {
   "cell_type": "code",
   "execution_count": 261,
   "metadata": {},
   "outputs": [
    {
     "data": {
      "text/plain": [
       "Index(['price', 'no_of_bedrms', 'no_of_bathrms', 'Floor_Area', 'Age'], dtype='object')"
      ]
     },
     "execution_count": 261,
     "metadata": {},
     "output_type": "execute_result"
    }
   ],
   "source": [
    "limited_df.columns"
   ]
  },
  {
   "cell_type": "code",
   "execution_count": 262,
   "metadata": {
    "scrolled": false
   },
   "outputs": [
    {
     "data": {
      "text/plain": [
       "<seaborn.axisgrid.PairGrid at 0x1ebe794f508>"
      ]
     },
     "execution_count": 262,
     "metadata": {},
     "output_type": "execute_result"
    },
    {
     "data": {
      "image/png": "[encoded data removed]",
      "text/plain": [
       "<Figure size 900x900 with 30 Axes>"
      ]
     },
     "metadata": {},
     "output_type": "display_data"
    }
   ],
   "source": [
    "sns.pairplot(limited_df)"
   ]
  },
  {
   "cell_type": "markdown",
   "metadata": {},
   "source": [
    "#### Setting up for modeling:"
   ]
  },
  {
   "cell_type": "code",
   "execution_count": 263,
   "metadata": {},
   "outputs": [],
   "source": [
    "#Separate our features from our target\n",
    "\n",
    "X = limited_df.loc[:,[ 'no_of_bedrms', 'no_of_bathrms', 'Floor_Area', 'Age']]\n",
    "\n",
    "y = limited_df['price']\n",
    "\n",
    "# Clone Square of Floor_Area data\n",
    "\n",
    "X['FA2'] = X['Floor_Area'] ** 2 "
   ]
  },
  {
   "cell_type": "code",
   "execution_count": 264,
   "metadata": {},
   "outputs": [
    {
     "name": "stdout",
     "output_type": "stream",
     "text": [
      "<class 'pandas.core.frame.DataFrame'>\n",
      "Int64Index: 477 entries, 0 to 610\n",
      "Data columns (total 5 columns):\n",
      " #   Column         Non-Null Count  Dtype  \n",
      "---  ------         --------------  -----  \n",
      " 0   no_of_bedrms   477 non-null    int64  \n",
      " 1   no_of_bathrms  477 non-null    int64  \n",
      " 2   Floor_Area     477 non-null    int64  \n",
      " 3   Age            477 non-null    float64\n",
      " 4   FA2            477 non-null    int64  \n",
      "dtypes: float64(1), int64(4)\n",
      "memory usage: 22.4 KB\n"
     ]
    }
   ],
   "source": [
    "X.info()"
   ]
  },
  {
   "cell_type": "code",
   "execution_count": 265,
   "metadata": {},
   "outputs": [],
   "source": [
    "#Split the data 60 - 20 - 20 train/val/test\n",
    "\n",
    "X_train_val, X_test, y_train_val, y_test = train_test_split(X, y, test_size=0.2,random_state=42)\n",
    "X_train, X_val, y_train, y_val = train_test_split(X_train_val, y_train_val, test_size=.25, random_state=43)"
   ]
  },
  {
   "cell_type": "code",
   "execution_count": 266,
   "metadata": {},
   "outputs": [
    {
     "data": {
      "text/plain": [
       "Index(['no_of_bedrms', 'no_of_bathrms', 'Floor_Area', 'Age', 'FA2'], dtype='object')"
      ]
     },
     "execution_count": 266,
     "metadata": {},
     "output_type": "execute_result"
    }
   ],
   "source": [
    "X_train.columns"
   ]
  },
  {
   "cell_type": "code",
   "execution_count": 267,
   "metadata": {},
   "outputs": [
    {
     "data": {
      "text/plain": [
       "(285, 5)"
      ]
     },
     "execution_count": 267,
     "metadata": {},
     "output_type": "execute_result"
    }
   ],
   "source": [
    "X_train.shape"
   ]
  },
  {
   "cell_type": "code",
   "execution_count": 268,
   "metadata": {},
   "outputs": [
    {
     "data": {
      "text/plain": [
       "(96, 5)"
      ]
     },
     "execution_count": 268,
     "metadata": {},
     "output_type": "execute_result"
    }
   ],
   "source": [
    "X_val.shape"
   ]
  },
  {
   "cell_type": "code",
   "execution_count": 269,
   "metadata": {},
   "outputs": [
    {
     "data": {
      "text/plain": [
       "(96, 5)"
      ]
     },
     "execution_count": 269,
     "metadata": {},
     "output_type": "execute_result"
    }
   ],
   "source": [
    "X_test.shape"
   ]
  },
  {
   "cell_type": "code",
   "execution_count": 270,
   "metadata": {},
   "outputs": [],
   "source": [
    "#define columns\n",
    "columns = [ 'Floor_Area','no_of_bedrms', 'no_of_bathrms',  'Age', 'FA2']"
   ]
  },
  {
   "cell_type": "code",
   "execution_count": 271,
   "metadata": {},
   "outputs": [
    {
     "name": "stdout",
     "output_type": "stream",
     "text": [
      "<class 'pandas.core.frame.DataFrame'>\n",
      "Int64Index: 285 entries, 415 to 107\n",
      "Data columns (total 5 columns):\n",
      " #   Column         Non-Null Count  Dtype  \n",
      "---  ------         --------------  -----  \n",
      " 0   no_of_bedrms   285 non-null    int64  \n",
      " 1   no_of_bathrms  285 non-null    int64  \n",
      " 2   Floor_Area     285 non-null    int64  \n",
      " 3   Age            285 non-null    float64\n",
      " 4   FA2            285 non-null    int64  \n",
      "dtypes: float64(1), int64(4)\n",
      "memory usage: 13.4 KB\n"
     ]
    }
   ],
   "source": [
    "X_train.info()"
   ]
  },
  {
   "cell_type": "code",
   "execution_count": 272,
   "metadata": {},
   "outputs": [
    {
     "data": {
      "text/plain": [
       "Lasso(alpha=100000)"
      ]
     },
     "execution_count": 272,
     "metadata": {},
     "output_type": "execute_result"
    }
   ],
   "source": [
    "lasso_model = Lasso(alpha = 100000) # for Feature selection\n",
    "lasso_model.fit(X_train.loc[:,columns], y_train)"
   ]
  },
  {
   "cell_type": "code",
   "execution_count": 273,
   "metadata": {},
   "outputs": [
    {
     "data": {
      "text/plain": [
       "[('Floor_Area', 26.224841033385548),\n",
       " ('no_of_bedrms', -0.0),\n",
       " ('no_of_bathrms', 0.0),\n",
       " ('Age', -13193.717557058277),\n",
       " ('FA2', 0.2201108532754952)]"
      ]
     },
     "execution_count": 273,
     "metadata": {},
     "output_type": "execute_result"
    }
   ],
   "source": [
    "list(zip(columns, lasso_model.coef_))"
   ]
  },
  {
   "cell_type": "code",
   "execution_count": 274,
   "metadata": {},
   "outputs": [
    {
     "data": {
      "text/html": [
       "<div>\n",
       "<style scoped>\n",
       "    .dataframe tbody tr th:only-of-type {\n",
       "        vertical-align: middle;\n",
       "    }\n",
       "\n",
       "    .dataframe tbody tr th {\n",
       "        vertical-align: top;\n",
       "    }\n",
       "\n",
       "    .dataframe thead th {\n",
       "        text-align: right;\n",
       "    }\n",
       "</style>\n",
       "<table border=\"1\" class=\"dataframe\">\n",
       "  <thead>\n",
       "    <tr style=\"text-align: right;\">\n",
       "      <th></th>\n",
       "      <th>Floor_Area</th>\n",
       "      <th>no_of_bedrms</th>\n",
       "      <th>no_of_bathrms</th>\n",
       "      <th>Age</th>\n",
       "      <th>FA2</th>\n",
       "      <th>Floor_Area Clone</th>\n",
       "    </tr>\n",
       "  </thead>\n",
       "  <tbody>\n",
       "    <tr>\n",
       "      <th>Floor_Area</th>\n",
       "      <td>1.000000</td>\n",
       "      <td>0.778779</td>\n",
       "      <td>0.740632</td>\n",
       "      <td>0.363182</td>\n",
       "      <td>0.961086</td>\n",
       "      <td>0.117439</td>\n",
       "    </tr>\n",
       "    <tr>\n",
       "      <th>no_of_bedrms</th>\n",
       "      <td>0.778779</td>\n",
       "      <td>1.000000</td>\n",
       "      <td>0.766378</td>\n",
       "      <td>0.287098</td>\n",
       "      <td>0.672422</td>\n",
       "      <td>0.096046</td>\n",
       "    </tr>\n",
       "    <tr>\n",
       "      <th>no_of_bathrms</th>\n",
       "      <td>0.740632</td>\n",
       "      <td>0.766378</td>\n",
       "      <td>1.000000</td>\n",
       "      <td>0.103311</td>\n",
       "      <td>0.679651</td>\n",
       "      <td>0.069476</td>\n",
       "    </tr>\n",
       "    <tr>\n",
       "      <th>Age</th>\n",
       "      <td>0.363182</td>\n",
       "      <td>0.287098</td>\n",
       "      <td>0.103311</td>\n",
       "      <td>1.000000</td>\n",
       "      <td>0.333613</td>\n",
       "      <td>0.111658</td>\n",
       "    </tr>\n",
       "    <tr>\n",
       "      <th>FA2</th>\n",
       "      <td>0.961086</td>\n",
       "      <td>0.672422</td>\n",
       "      <td>0.679651</td>\n",
       "      <td>0.333613</td>\n",
       "      <td>1.000000</td>\n",
       "      <td>0.108382</td>\n",
       "    </tr>\n",
       "    <tr>\n",
       "      <th>Floor_Area Clone</th>\n",
       "      <td>0.117439</td>\n",
       "      <td>0.096046</td>\n",
       "      <td>0.069476</td>\n",
       "      <td>0.111658</td>\n",
       "      <td>0.108382</td>\n",
       "      <td>1.000000</td>\n",
       "    </tr>\n",
       "  </tbody>\n",
       "</table>\n",
       "</div>"
      ],
      "text/plain": [
       "                  Floor_Area  no_of_bedrms  no_of_bathrms       Age       FA2  \\\n",
       "Floor_Area          1.000000      0.778779       0.740632  0.363182  0.961086   \n",
       "no_of_bedrms        0.778779      1.000000       0.766378  0.287098  0.672422   \n",
       "no_of_bathrms       0.740632      0.766378       1.000000  0.103311  0.679651   \n",
       "Age                 0.363182      0.287098       0.103311  1.000000  0.333613   \n",
       "FA2                 0.961086      0.672422       0.679651  0.333613  1.000000   \n",
       "Floor_Area Clone    0.117439      0.096046       0.069476  0.111658  0.108382   \n",
       "\n",
       "                  Floor_Area Clone  \n",
       "Floor_Area                0.117439  \n",
       "no_of_bedrms              0.096046  \n",
       "no_of_bathrms             0.069476  \n",
       "Age                       0.111658  \n",
       "FA2                       0.108382  \n",
       "Floor_Area Clone          1.000000  "
      ]
     },
     "execution_count": 274,
     "metadata": {},
     "output_type": "execute_result"
    }
   ],
   "source": [
    "np.random.seed(6)\n",
    "\n",
    "X_train_collinear = X_train.loc[:,columns]\n",
    "X_train_collinear['Floor_Area Clone'] = (X_train_collinear['Floor_Area'] + \n",
    "                                      2500 * np.random.randn(X_train.shape[0]))\n",
    "\n",
    "X_train_collinear.corr() #notice .95 correlation b/w Lot Area and its \"clone\""
   ]
  },
  {
   "cell_type": "markdown",
   "metadata": {},
   "source": [
    "As a quick aside, let's understand what happens with p-values when there is a lot of collinearity! We are much less sure about our relationships being meaningful. In this case the model does detect the right variable as having a significant relationship, but this need not be the case in general."
   ]
  },
  {
   "cell_type": "code",
   "execution_count": 276,
   "metadata": {
    "scrolled": true
   },
   "outputs": [
    {
     "data": {
      "text/html": [
       "<table class=\"simpletable\">\n",
       "<caption>OLS Regression Results</caption>\n",
       "<tr>\n",
       "  <th>Dep. Variable:</th>          <td>price</td>      <th>  R-squared:         </th> <td>   0.431</td>\n",
       "</tr>\n",
       "<tr>\n",
       "  <th>Model:</th>                   <td>OLS</td>       <th>  Adj. R-squared:    </th> <td>   0.419</td>\n",
       "</tr>\n",
       "<tr>\n",
       "  <th>Method:</th>             <td>Least Squares</td>  <th>  F-statistic:       </th> <td>   35.07</td>\n",
       "</tr>\n",
       "<tr>\n",
       "  <th>Date:</th>             <td>Mon, 21 Sep 2020</td> <th>  Prob (F-statistic):</th> <td>1.79e-31</td>\n",
       "</tr>\n",
       "<tr>\n",
       "  <th>Time:</th>                 <td>00:30:20</td>     <th>  Log-Likelihood:    </th> <td> -4032.2</td>\n",
       "</tr>\n",
       "<tr>\n",
       "  <th>No. Observations:</th>      <td>   285</td>      <th>  AIC:               </th> <td>   8078.</td>\n",
       "</tr>\n",
       "<tr>\n",
       "  <th>Df Residuals:</th>          <td>   278</td>      <th>  BIC:               </th> <td>   8104.</td>\n",
       "</tr>\n",
       "<tr>\n",
       "  <th>Df Model:</th>              <td>     6</td>      <th>                     </th>     <td> </td>   \n",
       "</tr>\n",
       "<tr>\n",
       "  <th>Covariance Type:</th>      <td>nonrobust</td>    <th>                     </th>     <td> </td>   \n",
       "</tr>\n",
       "</table>\n",
       "<table class=\"simpletable\">\n",
       "<tr>\n",
       "          <td></td>            <th>coef</th>     <th>std err</th>      <th>t</th>      <th>P>|t|</th>  <th>[0.025</th>    <th>0.975]</th>  \n",
       "</tr>\n",
       "<tr>\n",
       "  <th>const</th>            <td> 6.422e+05</td> <td> 1.23e+05</td> <td>    5.219</td> <td> 0.000</td> <td>    4e+05</td> <td> 8.84e+05</td>\n",
       "</tr>\n",
       "<tr>\n",
       "  <th>Floor_Area</th>       <td>  858.2218</td> <td>  266.015</td> <td>    3.226</td> <td> 0.001</td> <td>  334.562</td> <td> 1381.881</td>\n",
       "</tr>\n",
       "<tr>\n",
       "  <th>no_of_bedrms</th>     <td>-3.689e+05</td> <td> 4.41e+04</td> <td>   -8.368</td> <td> 0.000</td> <td>-4.56e+05</td> <td>-2.82e+05</td>\n",
       "</tr>\n",
       "<tr>\n",
       "  <th>no_of_bathrms</th>    <td> 2.914e+05</td> <td> 4.69e+04</td> <td>    6.219</td> <td> 0.000</td> <td> 1.99e+05</td> <td> 3.84e+05</td>\n",
       "</tr>\n",
       "<tr>\n",
       "  <th>Age</th>              <td>-1.096e+04</td> <td> 1752.322</td> <td>   -6.255</td> <td> 0.000</td> <td>-1.44e+04</td> <td>-7510.977</td>\n",
       "</tr>\n",
       "<tr>\n",
       "  <th>FA2</th>              <td>   -0.0278</td> <td>    0.087</td> <td>   -0.319</td> <td> 0.750</td> <td>   -0.200</td> <td>    0.144</td>\n",
       "</tr>\n",
       "<tr>\n",
       "  <th>Floor_Area Clone</th> <td>    7.2270</td> <td>    8.363</td> <td>    0.864</td> <td> 0.388</td> <td>   -9.236</td> <td>   23.690</td>\n",
       "</tr>\n",
       "</table>\n",
       "<table class=\"simpletable\">\n",
       "<tr>\n",
       "  <th>Omnibus:</th>       <td>15.554</td> <th>  Durbin-Watson:     </th> <td>   2.020</td>\n",
       "</tr>\n",
       "<tr>\n",
       "  <th>Prob(Omnibus):</th> <td> 0.000</td> <th>  Jarque-Bera (JB):  </th> <td>  17.029</td>\n",
       "</tr>\n",
       "<tr>\n",
       "  <th>Skew:</th>          <td> 0.599</td> <th>  Prob(JB):          </th> <td>0.000201</td>\n",
       "</tr>\n",
       "<tr>\n",
       "  <th>Kurtosis:</th>      <td> 2.997</td> <th>  Cond. No.          </th> <td>9.30e+06</td>\n",
       "</tr>\n",
       "</table><br/><br/>Notes:<br/>[1] Standard Errors assume that the covariance matrix of the errors is correctly specified.<br/>[2] The condition number is large, 9.3e+06. This might indicate that there are<br/>strong multicollinearity or other numerical problems."
      ],
      "text/plain": [
       "<class 'statsmodels.iolib.summary.Summary'>\n",
       "\"\"\"\n",
       "                            OLS Regression Results                            \n",
       "==============================================================================\n",
       "Dep. Variable:                  price   R-squared:                       0.431\n",
       "Model:                            OLS   Adj. R-squared:                  0.419\n",
       "Method:                 Least Squares   F-statistic:                     35.07\n",
       "Date:                Mon, 21 Sep 2020   Prob (F-statistic):           1.79e-31\n",
       "Time:                        00:30:20   Log-Likelihood:                -4032.2\n",
       "No. Observations:                 285   AIC:                             8078.\n",
       "Df Residuals:                     278   BIC:                             8104.\n",
       "Df Model:                           6                                         \n",
       "Covariance Type:            nonrobust                                         \n",
       "====================================================================================\n",
       "                       coef    std err          t      P>|t|      [0.025      0.975]\n",
       "------------------------------------------------------------------------------------\n",
       "const             6.422e+05   1.23e+05      5.219      0.000       4e+05    8.84e+05\n",
       "Floor_Area         858.2218    266.015      3.226      0.001     334.562    1381.881\n",
       "no_of_bedrms     -3.689e+05   4.41e+04     -8.368      0.000   -4.56e+05   -2.82e+05\n",
       "no_of_bathrms     2.914e+05   4.69e+04      6.219      0.000    1.99e+05    3.84e+05\n",
       "Age              -1.096e+04   1752.322     -6.255      0.000   -1.44e+04   -7510.977\n",
       "FA2                 -0.0278      0.087     -0.319      0.750      -0.200       0.144\n",
       "Floor_Area Clone     7.2270      8.363      0.864      0.388      -9.236      23.690\n",
       "==============================================================================\n",
       "Omnibus:                       15.554   Durbin-Watson:                   2.020\n",
       "Prob(Omnibus):                  0.000   Jarque-Bera (JB):               17.029\n",
       "Skew:                           0.599   Prob(JB):                     0.000201\n",
       "Kurtosis:                       2.997   Cond. No.                     9.30e+06\n",
       "==============================================================================\n",
       "\n",
       "Notes:\n",
       "[1] Standard Errors assume that the covariance matrix of the errors is correctly specified.\n",
       "[2] The condition number is large, 9.3e+06. This might indicate that there are\n",
       "strong multicollinearity or other numerical problems.\n",
       "\"\"\""
      ]
     },
     "execution_count": 276,
     "metadata": {},
     "output_type": "execute_result"
    }
   ],
   "source": [
    "import statsmodels.api as sm\n",
    "import statsmodels.formula.api as smf \n",
    "\n",
    "model = sm.OLS(y_train, sm.add_constant(X_train_collinear))\n",
    "results = model.fit()\n",
    "\n",
    "results.summary()"
   ]
  },
  {
   "cell_type": "code",
   "execution_count": 277,
   "metadata": {},
   "outputs": [
    {
     "data": {
      "text/plain": [
       "[('Floor_Area', -0.0006352665567463449),\n",
       " ('no_of_bedrms', -2.082540040122494e-05),\n",
       " ('no_of_bathrms', 1.307971150225782e-05),\n",
       " ('Age', -0.0005951529166505926),\n",
       " ('FA2', 0.16803274432523704),\n",
       " ('Floor_Area Clone', 0.001589980427093771)]"
      ]
     },
     "execution_count": 277,
     "metadata": {},
     "output_type": "execute_result"
    }
   ],
   "source": [
    "lr_model_ridge = Ridge(alpha = 1000000000000)\n",
    "lr_model_ridge.fit(X_train_collinear, y_train)\n",
    "\n",
    "list(zip(X_train_collinear.columns, lr_model_ridge.coef_))"
   ]
  },
  {
   "cell_type": "code",
   "execution_count": 278,
   "metadata": {},
   "outputs": [
    {
     "data": {
      "text/plain": [
       "[('Floor_Area', 14.38460179689479),\n",
       " ('no_of_bedrms', -0.0),\n",
       " ('no_of_bathrms', 0.0),\n",
       " ('Age', -13283.08318244883),\n",
       " ('FA2', 0.22323584159963097),\n",
       " ('Floor_Area Clone', 6.289159618635888)]"
      ]
     },
     "execution_count": 278,
     "metadata": {},
     "output_type": "execute_result"
    }
   ],
   "source": [
    "lr_model_lasso = Lasso(alpha = 100000)\n",
    "lr_model_lasso.fit(X_train_collinear, y_train)\n",
    "\n",
    "list(zip(X_train_collinear.columns, lr_model_lasso.coef_))"
   ]
  },
  {
   "cell_type": "code",
   "execution_count": 279,
   "metadata": {},
   "outputs": [],
   "source": [
    "#Back to the original LASSO model: diagnostics"
   ]
  },
  {
   "cell_type": "code",
   "execution_count": 280,
   "metadata": {},
   "outputs": [],
   "source": [
    "test_set_pred = lasso_model.predict(X_test.loc[:,columns])"
   ]
  },
  {
   "cell_type": "code",
   "execution_count": null,
   "metadata": {},
   "outputs": [],
   "source": []
  },
  {
   "cell_type": "code",
   "execution_count": null,
   "metadata": {},
   "outputs": [],
   "source": []
  },
  {
   "cell_type": "code",
   "execution_count": 287,
   "metadata": {},
   "outputs": [
    {
     "data": {
      "text/plain": [
       "[<matplotlib.lines.Line2D at 0x1ebe8991ec8>]"
      ]
     },
     "execution_count": 287,
     "metadata": {},
     "output_type": "execute_result"
    },
    {
     "data": {
      "image/png": "[encoded data removed]",
      "text/plain": [
       "<Figure size 432x288 with 1 Axes>"
      ]
     },
     "metadata": {},
     "output_type": "display_data"
    }
   ],
   "source": [
    "plt.scatter(test_set_pred, y_test,)\n",
    "plt.plot(np.linspace(0,2500000,1000), np.linspace(0,2500000,1000))"
   ]
  },
  {
   "cell_type": "code",
   "execution_count": 285,
   "metadata": {
    "scrolled": true
   },
   "outputs": [
    {
     "data": {
      "text/plain": [
       "0.11825220851201068"
      ]
     },
     "execution_count": 285,
     "metadata": {},
     "output_type": "execute_result"
    }
   ],
   "source": [
    "#r-squared\n",
    "r2_score(y_test, test_set_pred)"
   ]
  },
  {
   "cell_type": "code",
   "execution_count": 288,
   "metadata": {},
   "outputs": [
    {
     "data": {
      "text/plain": [
       "322451.5663668618"
      ]
     },
     "execution_count": 288,
     "metadata": {},
     "output_type": "execute_result"
    }
   ],
   "source": [
    "#Mean Absolute Error (MAE)\n",
    "def mae(y_true, y_pred):\n",
    "    return np.mean(np.abs(y_pred - y_true)) \n",
    "\n",
    "mae(y_test, test_set_pred)"
   ]
  },
  {
   "cell_type": "code",
   "execution_count": 289,
   "metadata": {},
   "outputs": [],
   "source": [
    "from sklearn.pipeline import Pipeline\n",
    "from sklearn.preprocessing import StandardScaler"
   ]
  },
  {
   "cell_type": "code",
   "execution_count": 290,
   "metadata": {},
   "outputs": [
    {
     "data": {
      "text/plain": [
       "StandardScaler()"
      ]
     },
     "execution_count": 290,
     "metadata": {},
     "output_type": "execute_result"
    }
   ],
   "source": [
    "## fiting the Standard Scaler to the training data\n",
    "\n",
    "std = StandardScaler()\n",
    "std.fit(X_train.values)"
   ]
  },
  {
   "cell_type": "code",
   "execution_count": 291,
   "metadata": {},
   "outputs": [],
   "source": [
    "# apply the scaler to the train set.\n",
    "X_tr = std.transform(X_train.values)"
   ]
  },
  {
   "cell_type": "code",
   "execution_count": 292,
   "metadata": {},
   "outputs": [],
   "source": [
    "## Apply the scaler to the test set\n",
    "\n",
    "X_te = std.transform(X_test.values)"
   ]
  },
  {
   "cell_type": "code",
   "execution_count": 294,
   "metadata": {},
   "outputs": [
    {
     "data": {
      "text/plain": [
       "(array([168.,  40.,  26.,  13.,  24.,  12.,   1.,   0.,   0.,   1.]),\n",
       " array([-0.96222598, -0.3335645 ,  0.29509698,  0.92375847,  1.55241995,\n",
       "         2.18108143,  2.80974291,  3.4384044 ,  4.06706588,  4.69572736,\n",
       "         5.32438885]),\n",
       " <BarContainer object of 10 artists>)"
      ]
     },
     "execution_count": 294,
     "metadata": {},
     "output_type": "execute_result"
    },
    {
     "data": {
      "image/png": "[encoded data removed]",
      "text/plain": [
       "<Figure size 432x288 with 1 Axes>"
      ]
     },
     "metadata": {},
     "output_type": "display_data"
    }
   ],
   "source": [
    "# plot histograms of the transformed variables\n",
    "\n",
    "plt.hist(X_tr[:,3])"
   ]
  },
  {
   "cell_type": "code",
   "execution_count": 295,
   "metadata": {},
   "outputs": [
    {
     "data": {
      "text/plain": [
       "Lasso(alpha=10000)"
      ]
     },
     "execution_count": 295,
     "metadata": {},
     "output_type": "execute_result"
    }
   ],
   "source": [
    "#use LASSO model on the standardized data\n",
    "\n",
    "lasso_model = Lasso(alpha = 10000)\n",
    "lasso_model.fit(X_tr,y_train)"
   ]
  },
  {
   "cell_type": "code",
   "execution_count": 296,
   "metadata": {},
   "outputs": [
    {
     "data": {
      "text/plain": [
       "[('no_of_bedrms', -264905.08254266734),\n",
       " ('no_of_bathrms', 193137.28697285714),\n",
       " ('Floor_Area', 219028.26977648892),\n",
       " ('Age', -130338.17849583707),\n",
       " ('FA2', 27724.06651164319)]"
      ]
     },
     "execution_count": 296,
     "metadata": {},
     "output_type": "execute_result"
    }
   ],
   "source": [
    "\n",
    "\n",
    "list(zip(X_train.columns, lasso_model.coef_))"
   ]
  },
  {
   "cell_type": "code",
   "execution_count": 297,
   "metadata": {},
   "outputs": [],
   "source": [
    "alphalist = 10**(np.linspace(-2,2,200))\n",
    "err_vec_val = np.zeros(len(alphalist))\n",
    "err_vec_train = np.zeros(len(alphalist))\n",
    "\n",
    "for i,curr_alpha in enumerate(alphalist):\n",
    "\n",
    "    # note the use of a new sklearn utility: Pipeline to pack\n",
    "    # multiple modeling steps into one fitting process \n",
    "    steps = [('standardize', StandardScaler()), \n",
    "             ('lasso', Ridge(alpha = curr_alpha))]\n",
    "\n",
    "    pipe = Pipeline(steps)\n",
    "    pipe.fit(X_train.loc[:,selected_columns].values, y_train)\n",
    "    \n",
    "    val_set_pred = pipe.predict(X_val.loc[:,selected_columns].values)\n",
    "    err_vec_val[i] = mae(y_val, val_set_pred)"
   ]
  },
  {
   "cell_type": "code",
   "execution_count": 299,
   "metadata": {},
   "outputs": [
    {
     "data": {
      "text/plain": [
       "[<matplotlib.lines.Line2D at 0x1ebe9af3748>]"
      ]
     },
     "execution_count": 299,
     "metadata": {},
     "output_type": "execute_result"
    },
    {
     "data": {
      "image/png": "[encoded data removed]",
      "text/plain": [
       "<Figure size 432x288 with 1 Axes>"
      ]
     },
     "metadata": {},
     "output_type": "display_data"
    }
   ],
   "source": [
    "#plot validation error \n",
    "\n",
    "plt.plot(alphalist, err_vec_val)"
   ]
  },
  {
   "cell_type": "code",
   "execution_count": 301,
   "metadata": {},
   "outputs": [
    {
     "data": {
      "text/plain": [
       "259340.2704778918"
      ]
     },
     "execution_count": 301,
     "metadata": {},
     "output_type": "execute_result"
    }
   ],
   "source": [
    "# minimum validation error\n",
    "\n",
    "np.min(err_vec_val)"
   ]
  },
  {
   "cell_type": "code",
   "execution_count": 302,
   "metadata": {},
   "outputs": [
    {
     "data": {
      "text/plain": [
       "0.9329304026284686"
      ]
     },
     "execution_count": 302,
     "metadata": {},
     "output_type": "execute_result"
    }
   ],
   "source": [
    "# alpha min\n",
    "alphalist[np.argmin(err_vec_val)]"
   ]
  },
  {
   "cell_type": "code",
   "execution_count": 333,
   "metadata": {},
   "outputs": [
    {
     "data": {
      "text/plain": [
       "StandardScaler()"
      ]
     },
     "execution_count": 333,
     "metadata": {},
     "output_type": "execute_result"
    }
   ],
   "source": [
    "# Data Scaling\n",
    "std = StandardScaler()\n",
    "std.fit(X_train.values)"
   ]
  },
  {
   "cell_type": "code",
   "execution_count": 334,
   "metadata": {},
   "outputs": [],
   "source": [
    "#Predictors Scaling for train and test set\n",
    "X_tr = std.transform(X_train.values)\n",
    "X_te = std.transform(X_test.values)"
   ]
  },
  {
   "cell_type": "code",
   "execution_count": 335,
   "metadata": {},
   "outputs": [
    {
     "data": {
      "text/plain": [
       "LassoCV(alphas=array([1.00000000e-02, 1.04737090e-02, 1.09698580e-02, 1.14895100e-02,\n",
       "       1.20337784e-02, 1.26038293e-02, 1.32008840e-02, 1.38262217e-02,\n",
       "       1.44811823e-02, 1.51671689e-02, 1.58856513e-02, 1.66381689e-02,\n",
       "       1.74263339e-02, 1.82518349e-02, 1.91164408e-02, 2.00220037e-02,\n",
       "       2.09704640e-02, 2.19638537e-02, 2.30043012e-02, 2.40940356e-02,\n",
       "       2.52353917e-02, 2.64308149e-0...\n",
       "       3.44896226e+01, 3.61234270e+01, 3.78346262e+01, 3.96268864e+01,\n",
       "       4.15040476e+01, 4.34701316e+01, 4.55293507e+01, 4.76861170e+01,\n",
       "       4.99450512e+01, 5.23109931e+01, 5.47890118e+01, 5.73844165e+01,\n",
       "       6.01027678e+01, 6.29498899e+01, 6.59318827e+01, 6.90551352e+01,\n",
       "       7.23263390e+01, 7.57525026e+01, 7.93409667e+01, 8.30994195e+01,\n",
       "       8.70359136e+01, 9.11588830e+01, 9.54771611e+01, 1.00000000e+02]),\n",
       "        cv=5)"
      ]
     },
     "execution_count": 335,
     "metadata": {},
     "output_type": "execute_result"
    }
   ],
   "source": [
    "# Run the cross validation\n",
    "\n",
    "alphavec = 10**np.linspace(-2,2,200)\n",
    "\n",
    "lasso_model = LassoCV(alphas = alphavec, cv=5)\n",
    "lasso_model.fit(X_tr, y_train)"
   ]
  },
  {
   "cell_type": "code",
   "execution_count": 336,
   "metadata": {},
   "outputs": [
    {
     "data": {
      "text/plain": [
       "100.0"
      ]
     },
     "execution_count": 336,
     "metadata": {},
     "output_type": "execute_result"
    }
   ],
   "source": [
    "#  best alpha value\n",
    "lasso_model.alpha_"
   ]
  },
  {
   "cell_type": "code",
   "execution_count": 337,
   "metadata": {},
   "outputs": [
    {
     "data": {
      "text/plain": [
       "[('no_of_bedrms', -331944.23562280054),\n",
       " ('no_of_bathrms', 219245.78544051538),\n",
       " ('Floor_Area', 314502.5189165601),\n",
       " ('Age', -141472.90279146325),\n",
       " ('FA2', -22886.271360297287)]"
      ]
     },
     "execution_count": 337,
     "metadata": {},
     "output_type": "execute_result"
    }
   ],
   "source": [
    "#  refit with best alpha\n",
    "list(zip(X_train.columns, lasso_model.coef_))"
   ]
  },
  {
   "cell_type": "code",
   "execution_count": 338,
   "metadata": {},
   "outputs": [],
   "source": [
    "# predict with the new model\n",
    "test_set_pred = lasso_model.predict(X_te)"
   ]
  },
  {
   "cell_type": "code",
   "execution_count": 339,
   "metadata": {},
   "outputs": [
    {
     "data": {
      "text/plain": [
       "276175.79288955603"
      ]
     },
     "execution_count": 339,
     "metadata": {},
     "output_type": "execute_result"
    }
   ],
   "source": [
    "# MAE after using new model\n",
    "mae(y_test, test_set_pred)"
   ]
  },
  {
   "cell_type": "code",
   "execution_count": 340,
   "metadata": {},
   "outputs": [
    {
     "data": {
      "text/plain": [
       "0.3274162824919895"
      ]
     },
     "execution_count": 340,
     "metadata": {},
     "output_type": "execute_result"
    }
   ],
   "source": [
    "# R2 after using new model\n",
    "r2_score(y_test, test_set_pred)"
   ]
  },
  {
   "cell_type": "code",
   "execution_count": 341,
   "metadata": {},
   "outputs": [
    {
     "data": {
      "text/plain": [
       "RidgeCV(alphas=array([1.00000000e-02, 1.04737090e-02, 1.09698580e-02, 1.14895100e-02,\n",
       "       1.20337784e-02, 1.26038293e-02, 1.32008840e-02, 1.38262217e-02,\n",
       "       1.44811823e-02, 1.51671689e-02, 1.58856513e-02, 1.66381689e-02,\n",
       "       1.74263339e-02, 1.82518349e-02, 1.91164408e-02, 2.00220037e-02,\n",
       "       2.09704640e-02, 2.19638537e-02, 2.30043012e-02, 2.40940356e-02,\n",
       "       2.52353917e-02, 2.64308149e-0...\n",
       "       3.44896226e+01, 3.61234270e+01, 3.78346262e+01, 3.96268864e+01,\n",
       "       4.15040476e+01, 4.34701316e+01, 4.55293507e+01, 4.76861170e+01,\n",
       "       4.99450512e+01, 5.23109931e+01, 5.47890118e+01, 5.73844165e+01,\n",
       "       6.01027678e+01, 6.29498899e+01, 6.59318827e+01, 6.90551352e+01,\n",
       "       7.23263390e+01, 7.57525026e+01, 7.93409667e+01, 8.30994195e+01,\n",
       "       8.70359136e+01, 9.11588830e+01, 9.54771611e+01, 1.00000000e+02]),\n",
       "        cv=5)"
      ]
     },
     "execution_count": 341,
     "metadata": {},
     "output_type": "execute_result"
    }
   ],
   "source": [
    "# Using Ridge Model\n",
    "alphavec = 10**np.linspace(-2,2,200)\n",
    "\n",
    "Reg_model = RidgeCV(alphas = alphavec, cv=5)\n",
    "Reg_model.fit(X_tr, y_train)\n",
    "\n"
   ]
  },
  {
   "cell_type": "code",
   "execution_count": 342,
   "metadata": {},
   "outputs": [
    {
     "data": {
      "text/plain": [
       "5.415871378079471"
      ]
     },
     "execution_count": 342,
     "metadata": {},
     "output_type": "execute_result"
    }
   ],
   "source": [
    "Reg_model.alpha_"
   ]
  },
  {
   "cell_type": "code",
   "execution_count": 343,
   "metadata": {},
   "outputs": [
    {
     "data": {
      "text/plain": [
       "[('no_of_bedrms', -289757.1173827562),\n",
       " ('no_of_bathrms', 206030.6282797735),\n",
       " ('Floor_Area', 215633.96420525352),\n",
       " ('Age', -138309.7947750704),\n",
       " ('FA2', 50631.642511765516)]"
      ]
     },
     "execution_count": 343,
     "metadata": {},
     "output_type": "execute_result"
    }
   ],
   "source": [
    "list(zip(X_train.columns, Reg_model.coef_))"
   ]
  },
  {
   "cell_type": "code",
   "execution_count": 344,
   "metadata": {},
   "outputs": [],
   "source": [
    "test_set_pred = Reg_model.predict(X_te)"
   ]
  },
  {
   "cell_type": "code",
   "execution_count": 345,
   "metadata": {},
   "outputs": [
    {
     "data": {
      "text/plain": [
       "274473.08208142366"
      ]
     },
     "execution_count": 345,
     "metadata": {},
     "output_type": "execute_result"
    }
   ],
   "source": [
    "mae(y_test, test_set_pred)"
   ]
  },
  {
   "cell_type": "code",
   "execution_count": 346,
   "metadata": {},
   "outputs": [
    {
     "data": {
      "text/plain": [
       "0.3313117741542908"
      ]
     },
     "execution_count": 346,
     "metadata": {},
     "output_type": "execute_result"
    }
   ],
   "source": [
    "r2_score(y_test, test_set_pred)"
   ]
  },
  {
   "cell_type": "code",
   "execution_count": null,
   "metadata": {},
   "outputs": [],
   "source": []
  }
 ],
 "metadata": {
  "kernelspec": {
   "display_name": "Python [conda env:metis] *",
   "language": "python",
   "name": "conda-env-metis-py"
  },
  "language_info": {
   "codemirror_mode": {
    "name": "ipython",
    "version": 3
   },
   "file_extension": ".py",
   "mimetype": "text/x-python",
   "name": "python",
   "nbconvert_exporter": "python",
   "pygments_lexer": "ipython3",
   "version": "3.7.8"
  }
 },
 "nbformat": 4,
 "nbformat_minor": 1
}
