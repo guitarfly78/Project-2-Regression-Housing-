{
 "cells": [
  {
   "cell_type": "code",
   "execution_count": 22,
   "metadata": {},
   "outputs": [
    {
     "name": "stdout",
     "output_type": "stream",
     "text": [
      "<class 'pandas.core.frame.DataFrame'>\n",
      "RangeIndex: 612 entries, 0 to 611\n",
      "Data columns (total 11 columns):\n",
      " #   Column          Non-Null Count  Dtype  \n",
      "---  ------          --------------  -----  \n",
      " 0   Unnamed: 0      612 non-null    int64  \n",
      " 1   Web_link        612 non-null    object \n",
      " 2   Property_Name   612 non-null    object \n",
      " 3   price           612 non-null    int64  \n",
      " 4   no_of_bedrms    612 non-null    int64  \n",
      " 5   no_of_bathrms   612 non-null    int64  \n",
      " 6   Floor_Area      612 non-null    int64  \n",
      " 7   Type            612 non-null    object \n",
      " 8   Age             612 non-null    float64\n",
      " 9   log_price       612 non-null    float64\n",
      " 10  log_Floor_Area  612 non-null    float64\n",
      "dtypes: float64(3), int64(5), object(3)\n",
      "memory usage: 52.7+ KB\n"
     ]
    }
   ],
   "source": [
    "#Read R1_link_main_list_df.csv file into df\n",
    "import pandas as pd\n",
    "import numpy as np\n",
    "\n",
    "temp_df=pd.read_csv('C:\\\\Users\\\\Admin\\\\clean_link_main_list_df.csv')\n",
    "\n",
    "temp_df.info()"
   ]
  },
  {
   "cell_type": "code",
   "execution_count": 23,
   "metadata": {},
   "outputs": [],
   "source": [
    "# Data cleaning and 'Type' to make dummy data\n",
    "temp_df = temp_df.replace('?', np.NaN).dropna().reset_index()\n",
    "temp_df['price'] = temp_df['price'].astype(float)\n",
    "\n",
    "homes = temp_df.select_dtypes(exclude=['object']).copy()\n",
    "homes['Type'] = temp_df['Type']"
   ]
  },
  {
   "cell_type": "code",
   "execution_count": 24,
   "metadata": {},
   "outputs": [
    {
     "data": {
      "text/plain": [
       "11"
      ]
     },
     "execution_count": 24,
     "metadata": {},
     "output_type": "execute_result"
    }
   ],
   "source": [
    "#number of additional dummy column\n",
    "homes['Type'].nunique()"
   ]
  },
  {
   "cell_type": "code",
   "execution_count": 25,
   "metadata": {},
   "outputs": [
    {
     "data": {
      "text/html": [
       "<div>\n",
       "<style scoped>\n",
       "    .dataframe tbody tr th:only-of-type {\n",
       "        vertical-align: middle;\n",
       "    }\n",
       "\n",
       "    .dataframe tbody tr th {\n",
       "        vertical-align: top;\n",
       "    }\n",
       "\n",
       "    .dataframe thead th {\n",
       "        text-align: right;\n",
       "    }\n",
       "</style>\n",
       "<table border=\"1\" class=\"dataframe\">\n",
       "  <thead>\n",
       "    <tr style=\"text-align: right;\">\n",
       "      <th></th>\n",
       "      <th>Apartment</th>\n",
       "      <th>Bungalow House</th>\n",
       "      <th>Cluster House</th>\n",
       "      <th>Condominium</th>\n",
       "      <th>Corner Terrace</th>\n",
       "      <th>Detached House</th>\n",
       "      <th>Executive Condominium</th>\n",
       "      <th>HDB</th>\n",
       "      <th>Semi-Detached House</th>\n",
       "      <th>Terraced House</th>\n",
       "      <th>Walk-up</th>\n",
       "    </tr>\n",
       "  </thead>\n",
       "  <tbody>\n",
       "    <tr>\n",
       "      <th>0</th>\n",
       "      <td>0</td>\n",
       "      <td>0</td>\n",
       "      <td>0</td>\n",
       "      <td>1</td>\n",
       "      <td>0</td>\n",
       "      <td>0</td>\n",
       "      <td>0</td>\n",
       "      <td>0</td>\n",
       "      <td>0</td>\n",
       "      <td>0</td>\n",
       "      <td>0</td>\n",
       "    </tr>\n",
       "    <tr>\n",
       "      <th>1</th>\n",
       "      <td>0</td>\n",
       "      <td>0</td>\n",
       "      <td>0</td>\n",
       "      <td>0</td>\n",
       "      <td>0</td>\n",
       "      <td>0</td>\n",
       "      <td>0</td>\n",
       "      <td>1</td>\n",
       "      <td>0</td>\n",
       "      <td>0</td>\n",
       "      <td>0</td>\n",
       "    </tr>\n",
       "    <tr>\n",
       "      <th>2</th>\n",
       "      <td>0</td>\n",
       "      <td>0</td>\n",
       "      <td>0</td>\n",
       "      <td>0</td>\n",
       "      <td>0</td>\n",
       "      <td>0</td>\n",
       "      <td>0</td>\n",
       "      <td>0</td>\n",
       "      <td>1</td>\n",
       "      <td>0</td>\n",
       "      <td>0</td>\n",
       "    </tr>\n",
       "    <tr>\n",
       "      <th>3</th>\n",
       "      <td>0</td>\n",
       "      <td>0</td>\n",
       "      <td>0</td>\n",
       "      <td>1</td>\n",
       "      <td>0</td>\n",
       "      <td>0</td>\n",
       "      <td>0</td>\n",
       "      <td>0</td>\n",
       "      <td>0</td>\n",
       "      <td>0</td>\n",
       "      <td>0</td>\n",
       "    </tr>\n",
       "    <tr>\n",
       "      <th>4</th>\n",
       "      <td>0</td>\n",
       "      <td>0</td>\n",
       "      <td>0</td>\n",
       "      <td>1</td>\n",
       "      <td>0</td>\n",
       "      <td>0</td>\n",
       "      <td>0</td>\n",
       "      <td>0</td>\n",
       "      <td>0</td>\n",
       "      <td>0</td>\n",
       "      <td>0</td>\n",
       "    </tr>\n",
       "  </tbody>\n",
       "</table>\n",
       "</div>"
      ],
      "text/plain": [
       "   Apartment  Bungalow House  Cluster House  Condominium  Corner Terrace  \\\n",
       "0          0               0              0            1               0   \n",
       "1          0               0              0            0               0   \n",
       "2          0               0              0            0               0   \n",
       "3          0               0              0            1               0   \n",
       "4          0               0              0            1               0   \n",
       "\n",
       "   Detached House  Executive Condominium  HDB  Semi-Detached House  \\\n",
       "0               0                      0    0                    0   \n",
       "1               0                      0    1                    0   \n",
       "2               0                      0    0                    1   \n",
       "3               0                      0    0                    0   \n",
       "4               0                      0    0                    0   \n",
       "\n",
       "   Terraced House  Walk-up  \n",
       "0               0        0  \n",
       "1               0        0  \n",
       "2               0        0  \n",
       "3               0        0  \n",
       "4               0        0  "
      ]
     },
     "execution_count": 25,
     "metadata": {},
     "output_type": "execute_result"
    }
   ],
   "source": [
    "# look at the dummies columns in detail\n",
    "pd.get_dummies(homes['Type']).head(5)"
   ]
  },
  {
   "cell_type": "code",
   "execution_count": 26,
   "metadata": {},
   "outputs": [
    {
     "data": {
      "text/html": [
       "<div>\n",
       "<style scoped>\n",
       "    .dataframe tbody tr th:only-of-type {\n",
       "        vertical-align: middle;\n",
       "    }\n",
       "\n",
       "    .dataframe tbody tr th {\n",
       "        vertical-align: top;\n",
       "    }\n",
       "\n",
       "    .dataframe thead th {\n",
       "        text-align: right;\n",
       "    }\n",
       "</style>\n",
       "<table border=\"1\" class=\"dataframe\">\n",
       "  <thead>\n",
       "    <tr style=\"text-align: right;\">\n",
       "      <th></th>\n",
       "      <th>index</th>\n",
       "      <th>Unnamed: 0</th>\n",
       "      <th>price</th>\n",
       "      <th>no_of_bedrms</th>\n",
       "      <th>no_of_bathrms</th>\n",
       "      <th>Floor_Area</th>\n",
       "      <th>Age</th>\n",
       "      <th>log_price</th>\n",
       "      <th>log_Floor_Area</th>\n",
       "      <th>Type_Apartment</th>\n",
       "      <th>Type_Bungalow House</th>\n",
       "      <th>Type_Cluster House</th>\n",
       "      <th>Type_Condominium</th>\n",
       "      <th>Type_Corner Terrace</th>\n",
       "      <th>Type_Detached House</th>\n",
       "      <th>Type_Executive Condominium</th>\n",
       "      <th>Type_HDB</th>\n",
       "      <th>Type_Semi-Detached House</th>\n",
       "      <th>Type_Terraced House</th>\n",
       "      <th>Type_Walk-up</th>\n",
       "    </tr>\n",
       "  </thead>\n",
       "  <tbody>\n",
       "    <tr>\n",
       "      <th>0</th>\n",
       "      <td>0</td>\n",
       "      <td>2</td>\n",
       "      <td>1550000.0</td>\n",
       "      <td>4</td>\n",
       "      <td>3</td>\n",
       "      <td>1528</td>\n",
       "      <td>7.0</td>\n",
       "      <td>14.253765</td>\n",
       "      <td>7.331715</td>\n",
       "      <td>0</td>\n",
       "      <td>0</td>\n",
       "      <td>0</td>\n",
       "      <td>1</td>\n",
       "      <td>0</td>\n",
       "      <td>0</td>\n",
       "      <td>0</td>\n",
       "      <td>0</td>\n",
       "      <td>0</td>\n",
       "      <td>0</td>\n",
       "      <td>0</td>\n",
       "    </tr>\n",
       "    <tr>\n",
       "      <th>1</th>\n",
       "      <td>1</td>\n",
       "      <td>3</td>\n",
       "      <td>450000.0</td>\n",
       "      <td>3</td>\n",
       "      <td>2</td>\n",
       "      <td>1001</td>\n",
       "      <td>5.0</td>\n",
       "      <td>13.017003</td>\n",
       "      <td>6.908755</td>\n",
       "      <td>0</td>\n",
       "      <td>0</td>\n",
       "      <td>0</td>\n",
       "      <td>0</td>\n",
       "      <td>0</td>\n",
       "      <td>0</td>\n",
       "      <td>0</td>\n",
       "      <td>1</td>\n",
       "      <td>0</td>\n",
       "      <td>0</td>\n",
       "      <td>0</td>\n",
       "    </tr>\n",
       "    <tr>\n",
       "      <th>2</th>\n",
       "      <td>2</td>\n",
       "      <td>4</td>\n",
       "      <td>3900000.0</td>\n",
       "      <td>5</td>\n",
       "      <td>5</td>\n",
       "      <td>4553</td>\n",
       "      <td>9.0</td>\n",
       "      <td>15.176487</td>\n",
       "      <td>8.423542</td>\n",
       "      <td>0</td>\n",
       "      <td>0</td>\n",
       "      <td>0</td>\n",
       "      <td>0</td>\n",
       "      <td>0</td>\n",
       "      <td>0</td>\n",
       "      <td>0</td>\n",
       "      <td>0</td>\n",
       "      <td>1</td>\n",
       "      <td>0</td>\n",
       "      <td>0</td>\n",
       "    </tr>\n",
       "  </tbody>\n",
       "</table>\n",
       "</div>"
      ],
      "text/plain": [
       "   index  Unnamed: 0      price  no_of_bedrms  no_of_bathrms  Floor_Area  Age  \\\n",
       "0      0           2  1550000.0             4              3        1528  7.0   \n",
       "1      1           3   450000.0             3              2        1001  5.0   \n",
       "2      2           4  3900000.0             5              5        4553  9.0   \n",
       "\n",
       "   log_price  log_Floor_Area  Type_Apartment  Type_Bungalow House  \\\n",
       "0  14.253765        7.331715               0                    0   \n",
       "1  13.017003        6.908755               0                    0   \n",
       "2  15.176487        8.423542               0                    0   \n",
       "\n",
       "   Type_Cluster House  Type_Condominium  Type_Corner Terrace  \\\n",
       "0                   0                 1                    0   \n",
       "1                   0                 0                    0   \n",
       "2                   0                 0                    0   \n",
       "\n",
       "   Type_Detached House  Type_Executive Condominium  Type_HDB  \\\n",
       "0                    0                           0         0   \n",
       "1                    0                           0         1   \n",
       "2                    0                           0         0   \n",
       "\n",
       "   Type_Semi-Detached House  Type_Terraced House  Type_Walk-up  \n",
       "0                         0                    0             0  \n",
       "1                         0                    0             0  \n",
       "2                         1                    0             0  "
      ]
     },
     "execution_count": 26,
     "metadata": {},
     "output_type": "execute_result"
    }
   ],
   "source": [
    "#combine the list togther with the main dataset\n",
    "homes = pd.get_dummies(homes) \n",
    "homes.head(3)"
   ]
  },
  {
   "cell_type": "code",
   "execution_count": 27,
   "metadata": {},
   "outputs": [],
   "source": [
    "#Run simple Validation\n",
    "\n",
    "from sklearn.model_selection import train_test_split\n",
    "from sklearn.linear_model import LinearRegression, Ridge \n",
    "from sklearn.preprocessing import StandardScaler, PolynomialFeatures\n",
    "\n",
    "X, y = homes.drop('price',axis=1), homes['price']\n",
    "\n",
    "# Set final testing:@ 20% (test_size=.2)\n",
    "X, X_test, y, y_test = train_test_split(X, y, test_size=.2, random_state=8)"
   ]
  },
  {
   "cell_type": "code",
   "execution_count": 28,
   "metadata": {},
   "outputs": [],
   "source": [
    "# Set final training @ 20% (test_size=.2)\n",
    "X_train, X_val, y_train, y_val = train_test_split(X, y, test_size=.2, random_state=88)"
   ]
  },
  {
   "cell_type": "code",
   "execution_count": 29,
   "metadata": {},
   "outputs": [],
   "source": [
    "#set up the 3 model options\n",
    "\n",
    "# LR Settings\n",
    "lm = LinearRegression()\n",
    "\n",
    "scaler = StandardScaler()\n",
    "\n",
    "X_train_scaled = scaler.fit_transform(X_train.values)\n",
    "X_val_scaled = scaler.transform(X_val.values)\n",
    "X_test_scaled = scaler.transform(X_test.values)\n",
    "\n",
    "#RR Settings\n",
    "lm_reg = Ridge(alpha=1)\n",
    "\n",
    "# Poly Settings\n",
    "poly = PolynomialFeatures(degree=2) \n",
    "\n",
    "X_train_poly = poly.fit_transform(X_train.values)\n",
    "X_val_poly = poly.transform(X_val.values)\n",
    "X_test_poly = poly.transform(X_test.values)\n",
    "\n",
    "lm_poly = LinearRegression()"
   ]
  },
  {
   "cell_type": "code",
   "execution_count": 30,
   "metadata": {},
   "outputs": [
    {
     "name": "stdout",
     "output_type": "stream",
     "text": [
      "Linear Regression val R^2: 0.892\n",
      "Ridge Regression val R^2: 0.893\n",
      "Degree 2 polynomial regression val R^2: -5.510\n"
     ]
    }
   ],
   "source": [
    "#validate using 3 models\n",
    "\n",
    "#LR fit\n",
    "lm.fit(X_train, y_train)\n",
    "print(f'Linear Regression val R^2: {lm.score(X_val, y_val):.3f}')\n",
    "\n",
    "#RR fit\n",
    "lm_reg.fit(X_train_scaled, y_train)\n",
    "print(f'Ridge Regression val R^2: {lm_reg.score(X_val_scaled, y_val):.3f}')\n",
    "\n",
    "#Poly fit Poly @ 2 Deg\n",
    "lm_poly.fit(X_train_poly, y_train)\n",
    "print(f'Degree 2 polynomial regression val R^2: {lm_poly.score(X_val_poly, y_val):.3f}')"
   ]
  },
  {
   "cell_type": "code",
   "execution_count": null,
   "metadata": {},
   "outputs": [],
   "source": []
  },
  {
   "cell_type": "code",
   "execution_count": 36,
   "metadata": {},
   "outputs": [
    {
     "name": "stdout",
     "output_type": "stream",
     "text": [
      "REtry Degree 1 polynomial regression val R^2: 0.892\n"
     ]
    }
   ],
   "source": [
    "#Poly fit Poly @ 1 Deg\n",
    "poly = PolynomialFeatures(degree=1) \n",
    "\n",
    "X_train_poly = poly.fit_transform(X_train.values)\n",
    "X_val_poly = poly.transform(X_val.values)\n",
    "X_test_poly = poly.transform(X_test.values)\n",
    "\n",
    "lm_poly = LinearRegression()\n",
    "lm_poly.fit(X_train_poly, y_train)\n",
    "print(f'REtry Degree 1 polynomial regression val R^2: {lm_poly.score(X_val_poly, y_val):.3f}')"
   ]
  },
  {
   "cell_type": "code",
   "execution_count": 32,
   "metadata": {},
   "outputs": [
    {
     "name": "stdout",
     "output_type": "stream",
     "text": [
      "Linear Regression test R^2: 0.661\n",
      "Ridge Regression test R^: 0.655\n"
     ]
    }
   ],
   "source": [
    "# Find out test scores\n",
    "lm.fit(X,y)\n",
    "print(f'Linear Regression test R^2: {lm.score(X_test, y_test):.3f}')\n",
    "\n",
    "lm_reg.fit(X,y)\n",
    "print(f'Ridge Regression test R^: {lm_reg.score(X_test, y_test):.3f}')"
   ]
  },
  {
   "cell_type": "code",
   "execution_count": 17,
   "metadata": {},
   "outputs": [],
   "source": [
    "#Run rigorous validation\n",
    "from sklearn.model_selection import KFold\n",
    "\n",
    "X, y = homes.drop('price',axis=1), homes['price']\n",
    "\n",
    "#Set final testing:@ 20% (test_size=.2)\n",
    "X, X_test, y, y_test = train_test_split(X, y, test_size=.2, random_state=10)\n",
    "\n",
    "#for kf to generate indices\n",
    "X, y = np.array(X), np.array(y)"
   ]
  },
  {
   "cell_type": "code",
   "execution_count": 18,
   "metadata": {},
   "outputs": [
    {
     "name": "stdout",
     "output_type": "stream",
     "text": [
      "Simple regression scores:  [0.8293050323118546, 0.5943014021678077, 0.8004051661790965, 0.8451196988486388, 0.6416752099848932]\n",
      "Ridge scores:  [0.8109535579305298, 0.6130057426422182, 0.8136114637706705, 0.8489651051833784, 0.6355203979673596] \n",
      "\n",
      "Simple mean cv r^2: 0.742 +- 0.103\n",
      "Ridge mean cv r^2: 0.744 +- 0.099\n"
     ]
    }
   ],
   "source": [
    "#Start CV\n",
    "\n",
    "kf = KFold(n_splits=5, shuffle=True, random_state = 71)\n",
    "cv_lm_r2s, cv_lm_reg_r2s = [], [] \n",
    "# results for LR and RR\n",
    "\n",
    "for train_ind, val_ind in kf.split(X,y):\n",
    "    \n",
    "    X_train, y_train = X[train_ind], y[train_ind]\n",
    "    X_val, y_val = X[val_ind], y[val_ind] \n",
    "    \n",
    "    #simple linear regression\n",
    "    lm = LinearRegression()\n",
    "    lm_reg = Ridge(alpha=1)\n",
    "\n",
    "    lm.fit(X_train, y_train)\n",
    "    cv_lm_r2s.append(lm.score(X_val, y_val))\n",
    "    \n",
    "    #ridge with feature scaling\n",
    "    scaler = StandardScaler()\n",
    "    X_train_scaled = scaler.fit_transform(X_train)\n",
    "    X_val_scaled = scaler.transform(X_val)\n",
    "    \n",
    "    lm_reg.fit(X_train_scaled, y_train)\n",
    "    cv_lm_reg_r2s.append(lm_reg.score(X_val_scaled, y_val))\n",
    "\n",
    "print('Simple regression scores: ', cv_lm_r2s)\n",
    "print('Ridge scores: ', cv_lm_reg_r2s, '\\n')\n",
    "\n",
    "print(f'Simple mean cv r^2: {np.mean(cv_lm_r2s):.3f} +- {np.std(cv_lm_r2s):.3f}')\n",
    "print(f'Ridge mean cv r^2: {np.mean(cv_lm_reg_r2s):.3f} +- {np.std(cv_lm_reg_r2s):.3f}')"
   ]
  },
  {
   "cell_type": "code",
   "execution_count": 19,
   "metadata": {},
   "outputs": [
    {
     "name": "stdout",
     "output_type": "stream",
     "text": [
      "Linear Regression test R^2: 0.778\n",
      "Ridge Regression test R^2: 0.787\n"
     ]
    }
   ],
   "source": [
    "scaler = StandardScaler()\n",
    "X_scaled = scaler.fit_transform(X)\n",
    "X_test_scaled = scaler.transform(X_test)\n",
    "\n",
    "lm = LinearRegression()\n",
    "lm.fit(X_scaled,y)\n",
    "print(f'Linear Regression test R^2: {lm.score(X_test_scaled, y_test):.3f}')\n",
    "\n",
    "lm_reg = Ridge(alpha=1)\n",
    "lm_reg.fit(X_scaled,y)\n",
    "print(f'Ridge Regression test R^2: {lm_reg.score(X_test_scaled, y_test):.3f}')"
   ]
  },
  {
   "cell_type": "code",
   "execution_count": null,
   "metadata": {},
   "outputs": [],
   "source": []
  },
  {
   "cell_type": "code",
   "execution_count": null,
   "metadata": {},
   "outputs": [],
   "source": []
  }
 ],
 "metadata": {
  "kernelspec": {
   "display_name": "Python [conda env:metis] *",
   "language": "python",
   "name": "conda-env-metis-py"
  },
  "language_info": {
   "codemirror_mode": {
    "name": "ipython",
    "version": 3
   },
   "file_extension": ".py",
   "mimetype": "text/x-python",
   "name": "python",
   "nbconvert_exporter": "python",
   "pygments_lexer": "ipython3",
   "version": "3.7.8"
  }
 },
 "nbformat": 4,
 "nbformat_minor": 2
}
