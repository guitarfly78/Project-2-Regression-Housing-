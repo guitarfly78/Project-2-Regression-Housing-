{
 "cells": [
  {
   "cell_type": "code",
   "execution_count": 1,
   "metadata": {},
   "outputs": [],
   "source": [
    "# EDA on Dataset"
   ]
  },
  {
   "cell_type": "code",
   "execution_count": 2,
   "metadata": {},
   "outputs": [],
   "source": [
    "# import \n",
    "import pandas as pd\n",
    "import numpy as np\n",
    "import patsy\n",
    "import statsmodels.api as sm\n",
    "import statsmodels.formula.api as smf\n",
    "\n",
    "import seaborn as sns\n",
    "import matplotlib.pyplot as plt\n",
    "from sklearn.linear_model import LinearRegression\n",
    "from sklearn.linear_model import RidgeCV\n",
    "%matplotlib inline"
   ]
  },
  {
   "cell_type": "code",
   "execution_count": 3,
   "metadata": {},
   "outputs": [
    {
     "name": "stdout",
     "output_type": "stream",
     "text": [
      "<class 'pandas.core.frame.DataFrame'>\n",
      "RangeIndex: 1000 entries, 0 to 999\n",
      "Data columns (total 9 columns):\n",
      " #   Column         Non-Null Count  Dtype  \n",
      "---  ------         --------------  -----  \n",
      " 0   Unnamed: 0     1000 non-null   int64  \n",
      " 1   Web_link       1000 non-null   object \n",
      " 2   Property_Name  1000 non-null   object \n",
      " 3   price          1000 non-null   int64  \n",
      " 4   no_of_bedrms   1000 non-null   int64  \n",
      " 5   no_of_bathrms  1000 non-null   int64  \n",
      " 6   Floor_Area     1000 non-null   int64  \n",
      " 7   Type           733 non-null    object \n",
      " 8   Age            612 non-null    float64\n",
      "dtypes: float64(1), int64(5), object(3)\n",
      "memory usage: 70.4+ KB\n"
     ]
    }
   ],
   "source": [
    "# Load R1_link_main_list_df.csv file\n",
    "link_main_list_df = pd.read_csv('C:\\\\Users\\\\Admin\\\\R1_link_main_list_df.csv')\n",
    "# Take a look at the datatypes\n",
    "link_main_list_df.info()"
   ]
  },
  {
   "cell_type": "code",
   "execution_count": 4,
   "metadata": {},
   "outputs": [],
   "source": [
    "# remove 'Unnamed: 0' column\n",
    "link_main_list_df = link_main_list_df.drop('Unnamed: 0', axis = 1)"
   ]
  },
  {
   "cell_type": "code",
   "execution_count": 5,
   "metadata": {},
   "outputs": [
    {
     "name": "stdout",
     "output_type": "stream",
     "text": [
      "<class 'pandas.core.frame.DataFrame'>\n",
      "RangeIndex: 1000 entries, 0 to 999\n",
      "Data columns (total 8 columns):\n",
      " #   Column         Non-Null Count  Dtype  \n",
      "---  ------         --------------  -----  \n",
      " 0   Web_link       1000 non-null   object \n",
      " 1   Property_Name  1000 non-null   object \n",
      " 2   price          1000 non-null   int64  \n",
      " 3   no_of_bedrms   1000 non-null   int64  \n",
      " 4   no_of_bathrms  1000 non-null   int64  \n",
      " 5   Floor_Area     1000 non-null   int64  \n",
      " 6   Type           733 non-null    object \n",
      " 7   Age            612 non-null    float64\n",
      "dtypes: float64(1), int64(4), object(3)\n",
      "memory usage: 62.6+ KB\n"
     ]
    }
   ],
   "source": [
    "link_main_list_df.info()"
   ]
  },
  {
   "cell_type": "code",
   "execution_count": 6,
   "metadata": {},
   "outputs": [],
   "source": [
    "# remove NA rows\n",
    "link_main_list_df = link_main_list_df.dropna()"
   ]
  },
  {
   "cell_type": "code",
   "execution_count": 7,
   "metadata": {},
   "outputs": [
    {
     "name": "stdout",
     "output_type": "stream",
     "text": [
      "<class 'pandas.core.frame.DataFrame'>\n",
      "Int64Index: 612 entries, 2 to 988\n",
      "Data columns (total 8 columns):\n",
      " #   Column         Non-Null Count  Dtype  \n",
      "---  ------         --------------  -----  \n",
      " 0   Web_link       612 non-null    object \n",
      " 1   Property_Name  612 non-null    object \n",
      " 2   price          612 non-null    int64  \n",
      " 3   no_of_bedrms   612 non-null    int64  \n",
      " 4   no_of_bathrms  612 non-null    int64  \n",
      " 5   Floor_Area     612 non-null    int64  \n",
      " 6   Type           612 non-null    object \n",
      " 7   Age            612 non-null    float64\n",
      "dtypes: float64(1), int64(4), object(3)\n",
      "memory usage: 43.0+ KB\n"
     ]
    }
   ],
   "source": [
    "link_main_list_df.info()"
   ]
  },
  {
   "cell_type": "code",
   "execution_count": 8,
   "metadata": {},
   "outputs": [
    {
     "data": {
      "text/html": [
       "<div>\n",
       "<style scoped>\n",
       "    .dataframe tbody tr th:only-of-type {\n",
       "        vertical-align: middle;\n",
       "    }\n",
       "\n",
       "    .dataframe tbody tr th {\n",
       "        vertical-align: top;\n",
       "    }\n",
       "\n",
       "    .dataframe thead th {\n",
       "        text-align: right;\n",
       "    }\n",
       "</style>\n",
       "<table border=\"1\" class=\"dataframe\">\n",
       "  <thead>\n",
       "    <tr style=\"text-align: right;\">\n",
       "      <th></th>\n",
       "      <th>Web_link</th>\n",
       "      <th>Property_Name</th>\n",
       "      <th>price</th>\n",
       "      <th>no_of_bedrms</th>\n",
       "      <th>no_of_bathrms</th>\n",
       "      <th>Floor_Area</th>\n",
       "      <th>Type</th>\n",
       "      <th>Age</th>\n",
       "    </tr>\n",
       "  </thead>\n",
       "  <tbody>\n",
       "    <tr>\n",
       "      <th>2</th>\n",
       "      <td>https://www.propertyguru.com.sg/listing/231793...</td>\n",
       "      <td>The Estuary @ Yishun</td>\n",
       "      <td>1550000</td>\n",
       "      <td>4</td>\n",
       "      <td>3</td>\n",
       "      <td>1528</td>\n",
       "      <td>Condominium</td>\n",
       "      <td>7.0</td>\n",
       "    </tr>\n",
       "    <tr>\n",
       "      <th>3</th>\n",
       "      <td>https://www.propertyguru.com.sg/listing/hdb-fo...</td>\n",
       "      <td>670B Edgefield Plains</td>\n",
       "      <td>450000</td>\n",
       "      <td>3</td>\n",
       "      <td>2</td>\n",
       "      <td>1001</td>\n",
       "      <td>HDB</td>\n",
       "      <td>5.0</td>\n",
       "    </tr>\n",
       "    <tr>\n",
       "      <th>4</th>\n",
       "      <td>https://www.propertyguru.com.sg/listing/223352...</td>\n",
       "      <td>Toh Close</td>\n",
       "      <td>3900000</td>\n",
       "      <td>5</td>\n",
       "      <td>5</td>\n",
       "      <td>4553</td>\n",
       "      <td>Semi-Detached House</td>\n",
       "      <td>9.0</td>\n",
       "    </tr>\n",
       "    <tr>\n",
       "      <th>5</th>\n",
       "      <td>https://www.propertyguru.com.sg/listing/216058...</td>\n",
       "      <td>Goodwood Residence</td>\n",
       "      <td>2880000</td>\n",
       "      <td>2</td>\n",
       "      <td>2</td>\n",
       "      <td>1120</td>\n",
       "      <td>Condominium</td>\n",
       "      <td>7.0</td>\n",
       "    </tr>\n",
       "    <tr>\n",
       "      <th>7</th>\n",
       "      <td>https://www.propertyguru.com.sg/listing/208917...</td>\n",
       "      <td>Draycott Eight</td>\n",
       "      <td>2680000</td>\n",
       "      <td>2</td>\n",
       "      <td>2</td>\n",
       "      <td>1485</td>\n",
       "      <td>Condominium</td>\n",
       "      <td>14.0</td>\n",
       "    </tr>\n",
       "  </tbody>\n",
       "</table>\n",
       "</div>"
      ],
      "text/plain": [
       "                                            Web_link          Property_Name  \\\n",
       "2  https://www.propertyguru.com.sg/listing/231793...   The Estuary @ Yishun   \n",
       "3  https://www.propertyguru.com.sg/listing/hdb-fo...  670B Edgefield Plains   \n",
       "4  https://www.propertyguru.com.sg/listing/223352...              Toh Close   \n",
       "5  https://www.propertyguru.com.sg/listing/216058...     Goodwood Residence   \n",
       "7  https://www.propertyguru.com.sg/listing/208917...         Draycott Eight   \n",
       "\n",
       "     price  no_of_bedrms  no_of_bathrms  Floor_Area                 Type   Age  \n",
       "2  1550000             4              3        1528          Condominium   7.0  \n",
       "3   450000             3              2        1001                  HDB   5.0  \n",
       "4  3900000             5              5        4553  Semi-Detached House   9.0  \n",
       "5  2880000             2              2        1120          Condominium   7.0  \n",
       "7  2680000             2              2        1485          Condominium  14.0  "
      ]
     },
     "execution_count": 8,
     "metadata": {},
     "output_type": "execute_result"
    }
   ],
   "source": [
    "# double check NA items\n",
    "link_main_list_df.head()"
   ]
  },
  {
   "cell_type": "code",
   "execution_count": null,
   "metadata": {},
   "outputs": [],
   "source": [
    "\n"
   ]
  },
  {
   "cell_type": "code",
   "execution_count": null,
   "metadata": {},
   "outputs": [],
   "source": []
  },
  {
   "cell_type": "code",
   "execution_count": 9,
   "metadata": {},
   "outputs": [
    {
     "data": {
      "text/plain": [
       "Index(['Web_link', 'Property_Name', 'price', 'no_of_bedrms', 'no_of_bathrms',\n",
       "       'Floor_Area', 'Type', 'Age'],\n",
       "      dtype='object')"
      ]
     },
     "execution_count": 9,
     "metadata": {},
     "output_type": "execute_result"
    }
   ],
   "source": [
    "\n",
    "link_main_list_df.columns = link_main_list_df.columns.map(str.strip)\n",
    "link_main_list_df.columns"
   ]
  },
  {
   "cell_type": "code",
   "execution_count": 10,
   "metadata": {},
   "outputs": [
    {
     "data": {
      "text/plain": [
       "(612, 8)"
      ]
     },
     "execution_count": 10,
     "metadata": {},
     "output_type": "execute_result"
    }
   ],
   "source": [
    "# check number of rows and columns \n",
    "link_main_list_df.shape"
   ]
  },
  {
   "cell_type": "code",
   "execution_count": 11,
   "metadata": {},
   "outputs": [
    {
     "data": {
      "text/html": [
       "<div>\n",
       "<style scoped>\n",
       "    .dataframe tbody tr th:only-of-type {\n",
       "        vertical-align: middle;\n",
       "    }\n",
       "\n",
       "    .dataframe tbody tr th {\n",
       "        vertical-align: top;\n",
       "    }\n",
       "\n",
       "    .dataframe thead th {\n",
       "        text-align: right;\n",
       "    }\n",
       "</style>\n",
       "<table border=\"1\" class=\"dataframe\">\n",
       "  <thead>\n",
       "    <tr style=\"text-align: right;\">\n",
       "      <th></th>\n",
       "      <th>price</th>\n",
       "      <th>no_of_bedrms</th>\n",
       "      <th>no_of_bathrms</th>\n",
       "      <th>Floor_Area</th>\n",
       "      <th>Age</th>\n",
       "    </tr>\n",
       "  </thead>\n",
       "  <tbody>\n",
       "    <tr>\n",
       "      <th>price</th>\n",
       "      <td>1.000000</td>\n",
       "      <td>0.417241</td>\n",
       "      <td>0.611283</td>\n",
       "      <td>0.698385</td>\n",
       "      <td>-0.093307</td>\n",
       "    </tr>\n",
       "    <tr>\n",
       "      <th>no_of_bedrms</th>\n",
       "      <td>0.417241</td>\n",
       "      <td>1.000000</td>\n",
       "      <td>0.836503</td>\n",
       "      <td>0.768627</td>\n",
       "      <td>0.173420</td>\n",
       "    </tr>\n",
       "    <tr>\n",
       "      <th>no_of_bathrms</th>\n",
       "      <td>0.611283</td>\n",
       "      <td>0.836503</td>\n",
       "      <td>1.000000</td>\n",
       "      <td>0.855492</td>\n",
       "      <td>0.027239</td>\n",
       "    </tr>\n",
       "    <tr>\n",
       "      <th>Floor_Area</th>\n",
       "      <td>0.698385</td>\n",
       "      <td>0.768627</td>\n",
       "      <td>0.855492</td>\n",
       "      <td>1.000000</td>\n",
       "      <td>0.078674</td>\n",
       "    </tr>\n",
       "    <tr>\n",
       "      <th>Age</th>\n",
       "      <td>-0.093307</td>\n",
       "      <td>0.173420</td>\n",
       "      <td>0.027239</td>\n",
       "      <td>0.078674</td>\n",
       "      <td>1.000000</td>\n",
       "    </tr>\n",
       "  </tbody>\n",
       "</table>\n",
       "</div>"
      ],
      "text/plain": [
       "                  price  no_of_bedrms  no_of_bathrms  Floor_Area       Age\n",
       "price          1.000000      0.417241       0.611283    0.698385 -0.093307\n",
       "no_of_bedrms   0.417241      1.000000       0.836503    0.768627  0.173420\n",
       "no_of_bathrms  0.611283      0.836503       1.000000    0.855492  0.027239\n",
       "Floor_Area     0.698385      0.768627       0.855492    1.000000  0.078674\n",
       "Age           -0.093307      0.173420       0.027239    0.078674  1.000000"
      ]
     },
     "execution_count": 11,
     "metadata": {},
     "output_type": "execute_result"
    }
   ],
   "source": [
    "# examine correlations\n",
    "link_main_list_df.corr()"
   ]
  },
  {
   "cell_type": "code",
   "execution_count": 13,
   "metadata": {},
   "outputs": [
    {
     "data": {
      "image/png": "[encoded data removed]",
      "text/plain": [
       "<Figure size 432x288 with 2 Axes>"
      ]
     },
     "metadata": {
      "needs_background": "light"
     },
     "output_type": "display_data"
    }
   ],
   "source": [
    "# generate heat map\n",
    "sns.heatmap(link_main_list_df.corr(), cmap=\"summer\", annot=True, vmin=-1, vmax=1);\n"
   ]
  },
  {
   "cell_type": "code",
   "execution_count": null,
   "metadata": {},
   "outputs": [],
   "source": []
  },
  {
   "cell_type": "code",
   "execution_count": 13,
   "metadata": {},
   "outputs": [
    {
     "data": {
      "image/png": "[encoded data removed]",
      "text/plain": [
       "<Figure size 900x900 with 30 Axes>"
      ]
     },
     "metadata": {
      "needs_background": "light"
     },
     "output_type": "display_data"
    }
   ],
   "source": [
    "# Plot all of the variable-to-variable relations as scatterplots\n",
    "sns.pairplot(link_main_list_df);\n"
   ]
  },
  {
   "cell_type": "code",
   "execution_count": 14,
   "metadata": {},
   "outputs": [
    {
     "data": {
      "text/plain": [
       "price            1.000000\n",
       "Floor_Area       0.698385\n",
       "no_of_bathrms    0.611283\n",
       "no_of_bedrms     0.417241\n",
       "Age             -0.093307\n",
       "Name: price, dtype: float64"
      ]
     },
     "execution_count": 14,
     "metadata": {},
     "output_type": "execute_result"
    }
   ],
   "source": [
    "link_main_list_df.corr()['price'].sort_values(ascending=False)"
   ]
  },
  {
   "cell_type": "code",
   "execution_count": 56,
   "metadata": {},
   "outputs": [
    {
     "data": {
      "text/html": [
       "<table class=\"simpletable\">\n",
       "<caption>OLS Regression Results</caption>\n",
       "<tr>\n",
       "  <th>Dep. Variable:</th>          <td>price</td>      <th>  R-squared:         </th> <td>   0.553</td> \n",
       "</tr>\n",
       "<tr>\n",
       "  <th>Model:</th>                   <td>OLS</td>       <th>  Adj. R-squared:    </th> <td>   0.550</td> \n",
       "</tr>\n",
       "<tr>\n",
       "  <th>Method:</th>             <td>Least Squares</td>  <th>  F-statistic:       </th> <td>   188.0</td> \n",
       "</tr>\n",
       "<tr>\n",
       "  <th>Date:</th>             <td>Sun, 20 Sep 2020</td> <th>  Prob (F-statistic):</th> <td>9.71e-105</td>\n",
       "</tr>\n",
       "<tr>\n",
       "  <th>Time:</th>                 <td>01:25:48</td>     <th>  Log-Likelihood:    </th> <td> -9618.5</td> \n",
       "</tr>\n",
       "<tr>\n",
       "  <th>No. Observations:</th>      <td>   612</td>      <th>  AIC:               </th> <td>1.925e+04</td>\n",
       "</tr>\n",
       "<tr>\n",
       "  <th>Df Residuals:</th>          <td>   607</td>      <th>  BIC:               </th> <td>1.927e+04</td>\n",
       "</tr>\n",
       "<tr>\n",
       "  <th>Df Model:</th>              <td>     4</td>      <th>                     </th>     <td> </td>    \n",
       "</tr>\n",
       "<tr>\n",
       "  <th>Covariance Type:</th>      <td>nonrobust</td>    <th>                     </th>     <td> </td>    \n",
       "</tr>\n",
       "</table>\n",
       "<table class=\"simpletable\">\n",
       "<tr>\n",
       "        <td></td>           <th>coef</th>     <th>std err</th>      <th>t</th>      <th>P>|t|</th>  <th>[0.025</th>    <th>0.975]</th>  \n",
       "</tr>\n",
       "<tr>\n",
       "  <th>Intercept</th>     <td> 8.151e+05</td> <td> 2.02e+05</td> <td>    4.040</td> <td> 0.000</td> <td> 4.19e+05</td> <td> 1.21e+06</td>\n",
       "</tr>\n",
       "<tr>\n",
       "  <th>Floor_Area</th>    <td> 1526.5765</td> <td>  108.392</td> <td>   14.084</td> <td> 0.000</td> <td> 1313.708</td> <td> 1739.445</td>\n",
       "</tr>\n",
       "<tr>\n",
       "  <th>no_of_bathrms</th> <td>  5.98e+05</td> <td> 1.25e+05</td> <td>    4.792</td> <td> 0.000</td> <td> 3.53e+05</td> <td> 8.43e+05</td>\n",
       "</tr>\n",
       "<tr>\n",
       "  <th>no_of_bedrms</th>  <td>-8.591e+05</td> <td> 1.12e+05</td> <td>   -7.670</td> <td> 0.000</td> <td>-1.08e+06</td> <td>-6.39e+05</td>\n",
       "</tr>\n",
       "<tr>\n",
       "  <th>Age</th>           <td>-1.793e+04</td> <td> 5547.079</td> <td>   -3.232</td> <td> 0.001</td> <td>-2.88e+04</td> <td>-7033.729</td>\n",
       "</tr>\n",
       "</table>\n",
       "<table class=\"simpletable\">\n",
       "<tr>\n",
       "  <th>Omnibus:</th>       <td>792.967</td> <th>  Durbin-Watson:     </th>  <td>   1.669</td> \n",
       "</tr>\n",
       "<tr>\n",
       "  <th>Prob(Omnibus):</th> <td> 0.000</td>  <th>  Jarque-Bera (JB):  </th> <td>186248.788</td>\n",
       "</tr>\n",
       "<tr>\n",
       "  <th>Skew:</th>          <td> 6.281</td>  <th>  Prob(JB):          </th>  <td>    0.00</td> \n",
       "</tr>\n",
       "<tr>\n",
       "  <th>Kurtosis:</th>      <td>87.534</td>  <th>  Cond. No.          </th>  <td>6.11e+03</td> \n",
       "</tr>\n",
       "</table><br/><br/>Notes:<br/>[1] Standard Errors assume that the covariance matrix of the errors is correctly specified.<br/>[2] The condition number is large, 6.11e+03. This might indicate that there are<br/>strong multicollinearity or other numerical problems."
      ],
      "text/plain": [
       "<class 'statsmodels.iolib.summary.Summary'>\n",
       "\"\"\"\n",
       "                            OLS Regression Results                            \n",
       "==============================================================================\n",
       "Dep. Variable:                  price   R-squared:                       0.553\n",
       "Model:                            OLS   Adj. R-squared:                  0.550\n",
       "Method:                 Least Squares   F-statistic:                     188.0\n",
       "Date:                Sun, 20 Sep 2020   Prob (F-statistic):          9.71e-105\n",
       "Time:                        01:25:48   Log-Likelihood:                -9618.5\n",
       "No. Observations:                 612   AIC:                         1.925e+04\n",
       "Df Residuals:                     607   BIC:                         1.927e+04\n",
       "Df Model:                           4                                         \n",
       "Covariance Type:            nonrobust                                         \n",
       "=================================================================================\n",
       "                    coef    std err          t      P>|t|      [0.025      0.975]\n",
       "---------------------------------------------------------------------------------\n",
       "Intercept      8.151e+05   2.02e+05      4.040      0.000    4.19e+05    1.21e+06\n",
       "Floor_Area     1526.5765    108.392     14.084      0.000    1313.708    1739.445\n",
       "no_of_bathrms   5.98e+05   1.25e+05      4.792      0.000    3.53e+05    8.43e+05\n",
       "no_of_bedrms  -8.591e+05   1.12e+05     -7.670      0.000   -1.08e+06   -6.39e+05\n",
       "Age           -1.793e+04   5547.079     -3.232      0.001   -2.88e+04   -7033.729\n",
       "==============================================================================\n",
       "Omnibus:                      792.967   Durbin-Watson:                   1.669\n",
       "Prob(Omnibus):                  0.000   Jarque-Bera (JB):           186248.788\n",
       "Skew:                           6.281   Prob(JB):                         0.00\n",
       "Kurtosis:                      87.534   Cond. No.                     6.11e+03\n",
       "==============================================================================\n",
       "\n",
       "Notes:\n",
       "[1] Standard Errors assume that the covariance matrix of the errors is correctly specified.\n",
       "[2] The condition number is large, 6.11e+03. This might indicate that there are\n",
       "strong multicollinearity or other numerical problems.\n",
       "\"\"\""
      ]
     },
     "execution_count": 56,
     "metadata": {},
     "output_type": "execute_result"
    }
   ],
   "source": [
    "# Put our model together\n",
    "lm1 = smf.ols('price ~ Floor_Area + no_of_bathrms + no_of_bedrms + Age', data=link_main_list_df)\n",
    "\n",
    "# Fit the model\n",
    "fit1 = lm1.fit()\n",
    "\n",
    "# Display summary statistics of the model's performance\n",
    "fit1.summary()"
   ]
  },
  {
   "cell_type": "code",
   "execution_count": 57,
   "metadata": {},
   "outputs": [
    {
     "ename": "NameError",
     "evalue": "name 'fit' is not defined",
     "output_type": "error",
     "traceback": [
      "\u001b[1;31m---------------------------------------------------------------------------\u001b[0m",
      "\u001b[1;31mNameError\u001b[0m                                 Traceback (most recent call last)",
      "\u001b[1;32m<ipython-input-57-4691fea6bc05>\u001b[0m in \u001b[0;36m<module>\u001b[1;34m\u001b[0m\n\u001b[0;32m      1\u001b[0m \u001b[0mplt\u001b[0m\u001b[1;33m.\u001b[0m\u001b[0mfigure\u001b[0m\u001b[1;33m(\u001b[0m\u001b[0mfigsize\u001b[0m\u001b[1;33m=\u001b[0m\u001b[1;33m(\u001b[0m\u001b[1;36m12\u001b[0m\u001b[1;33m,\u001b[0m\u001b[1;36m8\u001b[0m\u001b[1;33m)\u001b[0m\u001b[1;33m)\u001b[0m\u001b[1;33m\u001b[0m\u001b[1;33m\u001b[0m\u001b[0m\n\u001b[1;32m----> 2\u001b[1;33m \u001b[0mplt\u001b[0m\u001b[1;33m.\u001b[0m\u001b[0mscatter\u001b[0m\u001b[1;33m(\u001b[0m\u001b[0mfit\u001b[0m\u001b[1;33m.\u001b[0m\u001b[0mpredict\u001b[0m\u001b[1;33m(\u001b[0m\u001b[1;33m)\u001b[0m\u001b[1;33m,\u001b[0m \u001b[0mfit\u001b[0m\u001b[1;33m.\u001b[0m\u001b[0mresid\u001b[0m\u001b[1;33m)\u001b[0m\u001b[1;33m;\u001b[0m\u001b[1;33m\u001b[0m\u001b[1;33m\u001b[0m\u001b[0m\n\u001b[0m",
      "\u001b[1;31mNameError\u001b[0m: name 'fit' is not defined"
     ]
    },
    {
     "data": {
      "text/plain": [
       "<Figure size 864x576 with 0 Axes>"
      ]
     },
     "metadata": {},
     "output_type": "display_data"
    }
   ],
   "source": [
    "plt.figure(figsize=(12,8))\n",
    "plt.scatter(fit.predict(), fit.resid);"
   ]
  },
  {
   "cell_type": "code",
   "execution_count": null,
   "metadata": {},
   "outputs": [],
   "source": [
    "link_main_list_df['log_price']=np.log(link_main_list_df['price'])"
   ]
  },
  {
   "cell_type": "code",
   "execution_count": null,
   "metadata": {},
   "outputs": [],
   "source": [
    "link_main_list_df.info()"
   ]
  },
  {
   "cell_type": "code",
   "execution_count": null,
   "metadata": {},
   "outputs": [],
   "source": [
    "# Repeat with Log of Price\n",
    "\n",
    "lm1 = smf.ols('log_price ~ Floor_Area + no_of_bathrms + no_of_bedrms + Age', data=link_main_list_df)\n",
    "     \n",
    "\n",
    "fit1 = lm1.fit()\n",
    "\n",
    "\n",
    "fit1.summary()"
   ]
  },
  {
   "cell_type": "code",
   "execution_count": null,
   "metadata": {},
   "outputs": [],
   "source": [
    "plt.figure(figsize=(12,8))\n",
    "plt.scatter(fit1.predict(), fit1.resid);"
   ]
  },
  {
   "cell_type": "code",
   "execution_count": null,
   "metadata": {},
   "outputs": [],
   "source": [
    "link_main_list_df.info()"
   ]
  },
  {
   "cell_type": "code",
   "execution_count": null,
   "metadata": {},
   "outputs": [],
   "source": [
    "link_main_list_df['log_Floor_Area']=np.log(link_main_list_df['Floor_Area'])"
   ]
  },
  {
   "cell_type": "code",
   "execution_count": null,
   "metadata": {},
   "outputs": [],
   "source": [
    "# Repeat with Log of Price and Log of Floor Area\n",
    "\n",
    "lm1 = smf.ols('log_price ~ log_Floor_Area + no_of_bathrms + no_of_bedrms + Age', data=link_main_list_df)\n",
    "     \n",
    "\n",
    "fit1 = lm1.fit()\n",
    "\n",
    "\n",
    "fit1.summary()"
   ]
  },
  {
   "cell_type": "code",
   "execution_count": null,
   "metadata": {},
   "outputs": [],
   "source": [
    "plt.figure(figsize=(12,8))\n",
    "plt.scatter(fit1.predict(), fit1.resid);"
   ]
  },
  {
   "cell_type": "code",
   "execution_count": null,
   "metadata": {},
   "outputs": [],
   "source": [
    "link_main_list_df.to_csv('clean_link_main_list_df.csv')"
   ]
  },
  {
   "cell_type": "code",
   "execution_count": null,
   "metadata": {},
   "outputs": [],
   "source": [
    "# Repeat removing Age\n",
    "lm1 = smf.ols('log_price ~ log_Floor_Area + no_of_bathrms + no_of_bedrms', data = link_main_list_df)\n",
    "\n",
    "# Fit the model\n",
    "fit1 = lm1.fit()\n",
    "\n",
    "# Print summary statistics of the model's performance\n",
    "fit1.summary()"
   ]
  },
  {
   "cell_type": "code",
   "execution_count": null,
   "metadata": {},
   "outputs": [],
   "source": [
    "plt.figure(figsize=(12,8))\n",
    "plt.scatter(fit1.predict(), fit1.resid);"
   ]
  },
  {
   "cell_type": "code",
   "execution_count": null,
   "metadata": {},
   "outputs": [],
   "source": [
    "# Repeat removing no of bedrooms and Age\n",
    "lm1 = smf.ols('log_price ~ log_Floor_Area + no_of_bathrms', data = link_main_list_df)\n",
    "\n",
    "# Fit the model\n",
    "fit2 = lm1.fit()\n",
    "\n",
    "# Print summary statistics of the model's performance\n",
    "fit2.summary()"
   ]
  },
  {
   "cell_type": "code",
   "execution_count": null,
   "metadata": {},
   "outputs": [],
   "source": [
    "# Use statsmodels to plot the residuals vs the fitted values\n",
    "plt.figure(figsize=(12,8))\n",
    "plt.scatter(fit2.predict(), fit2.resid);"
   ]
  },
  {
   "cell_type": "code",
   "execution_count": null,
   "metadata": {},
   "outputs": [],
   "source": [
    "# Start with  empty model\n",
    "lr = LinearRegression()\n",
    "\n",
    "# include all my features\n",
    "X = link_main_list_df[['Floor_Area','no_of_bathrms','no_of_bedrms', 'Age']]\n",
    "\n",
    "# my target is Price\n",
    "y = link_main_list_df[['price']]\n",
    "\n",
    "# Fit the model\n",
    "lr.fit(X, y)\n",
    "\n",
    "# display R2, intercept and Coefficient\n",
    "print(lr.score(X,y))\n",
    "\n",
    "print(lr.intercept_)\n",
    "\n",
    "print(lr.coef_)\n"
   ]
  },
  {
   "cell_type": "code",
   "execution_count": null,
   "metadata": {
    "scrolled": true
   },
   "outputs": [],
   "source": [
    "# Try again without Age\n",
    "lr = LinearRegression()\n",
    "\n",
    "X = link_main_list_df[['Floor_Area','no_of_bathrms','no_of_bedrms']]\n",
    "\n",
    "\n",
    "y = link_main_list_df[['price']]\n",
    "\n",
    "\n",
    "lr.fit(X, y)\n",
    "\n",
    "\n",
    "lr.score(X,y)\n",
    "\n",
    "print(lr.intercept_)\n",
    "\n",
    "print(lr.coef_)"
   ]
  },
  {
   "cell_type": "code",
   "execution_count": null,
   "metadata": {},
   "outputs": [],
   "source": [
    "# Improving the by putting more Data (Type)"
   ]
  },
  {
   "cell_type": "code",
   "execution_count": 92,
   "metadata": {},
   "outputs": [
    {
     "data": {
      "text/plain": [
       "Index(['Web_link', 'Property_Name', 'price', 'no_of_bedrms', 'no_of_bathrms',\n",
       "       'Floor_Area', 'Type', 'Age'],\n",
       "      dtype='object')"
      ]
     },
     "execution_count": 92,
     "metadata": {},
     "output_type": "execute_result"
    }
   ],
   "source": [
    "link_main_list_df.columns"
   ]
  },
  {
   "cell_type": "code",
   "execution_count": 93,
   "metadata": {},
   "outputs": [
    {
     "name": "stdout",
     "output_type": "stream",
     "text": [
      "<class 'pandas.core.frame.DataFrame'>\n",
      "Int64Index: 612 entries, 2 to 988\n",
      "Data columns (total 8 columns):\n",
      " #   Column         Non-Null Count  Dtype  \n",
      "---  ------         --------------  -----  \n",
      " 0   Web_link       612 non-null    object \n",
      " 1   Property_Name  612 non-null    object \n",
      " 2   price          612 non-null    int64  \n",
      " 3   no_of_bedrms   612 non-null    int64  \n",
      " 4   no_of_bathrms  612 non-null    int64  \n",
      " 5   Floor_Area     612 non-null    int64  \n",
      " 6   Type           612 non-null    object \n",
      " 7   Age            612 non-null    float64\n",
      "dtypes: float64(1), int64(4), object(3)\n",
      "memory usage: 63.0+ KB\n"
     ]
    }
   ],
   "source": [
    "link_main_list_df.info()"
   ]
  },
  {
   "cell_type": "code",
   "execution_count": 97,
   "metadata": {},
   "outputs": [],
   "source": [
    "#Creating a subset of all numeric dataframe \n",
    "subset=['price', 'no_of_bedrms', 'no_of_bathrms',\n",
    "       'Floor_Area', 'Age']\n",
    "\n",
    "\n",
    "link_main_list_df2 = link_main_list_df[subset]"
   ]
  },
  {
   "cell_type": "code",
   "execution_count": 100,
   "metadata": {},
   "outputs": [
    {
     "name": "stdout",
     "output_type": "stream",
     "text": [
      "<class 'pandas.core.frame.DataFrame'>\n",
      "Int64Index: 612 entries, 2 to 988\n",
      "Data columns (total 5 columns):\n",
      " #   Column         Non-Null Count  Dtype  \n",
      "---  ------         --------------  -----  \n",
      " 0   price          612 non-null    float64\n",
      " 1   no_of_bedrms   612 non-null    int64  \n",
      " 2   no_of_bathrms  612 non-null    int64  \n",
      " 3   Floor_Area     612 non-null    int64  \n",
      " 4   Age            612 non-null    float64\n",
      "dtypes: float64(2), int64(3)\n",
      "memory usage: 48.7 KB\n"
     ]
    }
   ],
   "source": [
    "link_main_list_df2.info()"
   ]
  },
  {
   "cell_type": "code",
   "execution_count": 99,
   "metadata": {},
   "outputs": [
    {
     "name": "stderr",
     "output_type": "stream",
     "text": [
      "C:\\Users\\Admin\\anaconda3\\envs\\metis\\lib\\site-packages\\ipykernel_launcher.py:1: SettingWithCopyWarning: \n",
      "A value is trying to be set on a copy of a slice from a DataFrame.\n",
      "Try using .loc[row_indexer,col_indexer] = value instead\n",
      "\n",
      "See the caveats in the documentation: https://pandas.pydata.org/pandas-docs/stable/user_guide/indexing.html#returning-a-view-versus-a-copy\n",
      "  \"\"\"Entry point for launching an IPython kernel.\n"
     ]
    }
   ],
   "source": [
    "\n",
    "link_main_list_df2['price']=link_main_list_df['price'].astype(float)\n",
    "\n"
   ]
  },
  {
   "cell_type": "code",
   "execution_count": 101,
   "metadata": {},
   "outputs": [
    {
     "name": "stderr",
     "output_type": "stream",
     "text": [
      "C:\\Users\\Admin\\anaconda3\\envs\\metis\\lib\\site-packages\\ipykernel_launcher.py:1: SettingWithCopyWarning: \n",
      "A value is trying to be set on a copy of a slice from a DataFrame.\n",
      "Try using .loc[row_indexer,col_indexer] = value instead\n",
      "\n",
      "See the caveats in the documentation: https://pandas.pydata.org/pandas-docs/stable/user_guide/indexing.html#returning-a-view-versus-a-copy\n",
      "  \"\"\"Entry point for launching an IPython kernel.\n"
     ]
    }
   ],
   "source": [
    "\n",
    "link_main_list_df2['log_price'] = link_main_list_df['price'].apply(np.log)\n"
   ]
  },
  {
   "cell_type": "code",
   "execution_count": 102,
   "metadata": {},
   "outputs": [
    {
     "ename": "NameError",
     "evalue": "name 'df' is not defined",
     "output_type": "error",
     "traceback": [
      "\u001b[1;31m---------------------------------------------------------------------------\u001b[0m",
      "\u001b[1;31mNameError\u001b[0m                                 Traceback (most recent call last)",
      "\u001b[1;32m<ipython-input-102-1a3845295246>\u001b[0m in \u001b[0;36m<module>\u001b[1;34m\u001b[0m\n\u001b[0;32m      1\u001b[0m \u001b[1;31m# Let's add 'make'\u001b[0m\u001b[1;33m\u001b[0m\u001b[1;33m\u001b[0m\u001b[1;33m\u001b[0m\u001b[0m\n\u001b[1;32m----> 2\u001b[1;33m \u001b[0mprint\u001b[0m\u001b[1;33m(\u001b[0m\u001b[0mdf\u001b[0m\u001b[1;33m.\u001b[0m\u001b[0mmake\u001b[0m\u001b[1;33m.\u001b[0m\u001b[0mvalue_counts\u001b[0m\u001b[1;33m(\u001b[0m\u001b[1;33m)\u001b[0m\u001b[1;33m)\u001b[0m\u001b[1;33m\u001b[0m\u001b[1;33m\u001b[0m\u001b[0m\n\u001b[0m\u001b[0;32m      3\u001b[0m \u001b[0mprint\u001b[0m\u001b[1;33m(\u001b[0m\u001b[1;34m'\\n'\u001b[0m\u001b[1;33m)\u001b[0m\u001b[1;33m\u001b[0m\u001b[1;33m\u001b[0m\u001b[0m\n\u001b[0;32m      4\u001b[0m \u001b[0mprint\u001b[0m\u001b[1;33m(\u001b[0m\u001b[0mlen\u001b[0m\u001b[1;33m(\u001b[0m\u001b[0mdf\u001b[0m\u001b[1;33m.\u001b[0m\u001b[0mmake\u001b[0m\u001b[1;33m.\u001b[0m\u001b[0mvalue_counts\u001b[0m\u001b[1;33m(\u001b[0m\u001b[1;33m)\u001b[0m\u001b[1;33m)\u001b[0m\u001b[1;33m)\u001b[0m\u001b[1;33m\u001b[0m\u001b[1;33m\u001b[0m\u001b[0m\n",
      "\u001b[1;31mNameError\u001b[0m: name 'df' is not defined"
     ]
    }
   ],
   "source": [
    "# Let's add 'make'\n",
    "print(df.make.value_counts())\n",
    "print('\\n')\n",
    "print(len(df.make.value_counts()))"
   ]
  },
  {
   "cell_type": "code",
   "execution_count": 103,
   "metadata": {},
   "outputs": [
    {
     "name": "stdout",
     "output_type": "stream",
     "text": [
      "Condominium              271\n",
      "HDB                      199\n",
      "Apartment                 64\n",
      "Terraced House            19\n",
      "Executive Condominium     19\n",
      "Semi-Detached House       15\n",
      "Corner Terrace            11\n",
      "Detached House             7\n",
      "Cluster House              3\n",
      "Bungalow House             3\n",
      "Walk-up                    1\n",
      "Name: Type, dtype: int64\n",
      "\n",
      "\n",
      "11\n"
     ]
    }
   ],
   "source": [
    "# Add 'Type' to our dataset\n",
    "print(link_main_list_df.Type.value_counts())\n",
    "print('\\n')\n",
    "print(len(link_main_list_df.Type.value_counts()))"
   ]
  },
  {
   "cell_type": "code",
   "execution_count": 104,
   "metadata": {},
   "outputs": [
    {
     "ename": "NameError",
     "evalue": "name 'df' is not defined",
     "output_type": "error",
     "traceback": [
      "\u001b[1;31m---------------------------------------------------------------------------\u001b[0m",
      "\u001b[1;31mNameError\u001b[0m                                 Traceback (most recent call last)",
      "\u001b[1;32m<ipython-input-104-a032053cede1>\u001b[0m in \u001b[0;36m<module>\u001b[1;34m\u001b[0m\n\u001b[1;32m----> 1\u001b[1;33m \u001b[0mX\u001b[0m \u001b[1;33m=\u001b[0m \u001b[0mpatsy\u001b[0m\u001b[1;33m.\u001b[0m\u001b[0mdmatrix\u001b[0m\u001b[1;33m(\u001b[0m\u001b[1;34m'make'\u001b[0m\u001b[1;33m,\u001b[0m\u001b[0mdata\u001b[0m\u001b[1;33m=\u001b[0m\u001b[0mdf\u001b[0m\u001b[1;33m,\u001b[0m\u001b[0mreturn_type\u001b[0m\u001b[1;33m=\u001b[0m\u001b[1;34m'dataframe'\u001b[0m\u001b[1;33m)\u001b[0m\u001b[1;33m\u001b[0m\u001b[1;33m\u001b[0m\u001b[0m\n\u001b[0m\u001b[0;32m      2\u001b[0m \u001b[0mX\u001b[0m\u001b[1;33m.\u001b[0m\u001b[0mhead\u001b[0m\u001b[1;33m(\u001b[0m\u001b[1;33m)\u001b[0m\u001b[1;33m\u001b[0m\u001b[1;33m\u001b[0m\u001b[0m\n",
      "\u001b[1;31mNameError\u001b[0m: name 'df' is not defined"
     ]
    }
   ],
   "source": [
    "X = patsy.dmatrix('make',data=df,return_type='dataframe')\n",
    "X.head()"
   ]
  },
  {
   "cell_type": "code",
   "execution_count": 105,
   "metadata": {},
   "outputs": [],
   "source": [
    "# convert 'Type' to categorical variables\n",
    "\n",
    "X = patsy.dmatrix('Type',data=link_main_list_df,return_type='dataframe')\n",
    "\n"
   ]
  },
  {
   "cell_type": "code",
   "execution_count": 106,
   "metadata": {},
   "outputs": [
    {
     "data": {
      "text/html": [
       "<div>\n",
       "<style scoped>\n",
       "    .dataframe tbody tr th:only-of-type {\n",
       "        vertical-align: middle;\n",
       "    }\n",
       "\n",
       "    .dataframe tbody tr th {\n",
       "        vertical-align: top;\n",
       "    }\n",
       "\n",
       "    .dataframe thead th {\n",
       "        text-align: right;\n",
       "    }\n",
       "</style>\n",
       "<table border=\"1\" class=\"dataframe\">\n",
       "  <thead>\n",
       "    <tr style=\"text-align: right;\">\n",
       "      <th></th>\n",
       "      <th>Intercept</th>\n",
       "      <th>Type[T.Bungalow House]</th>\n",
       "      <th>Type[T.Cluster House]</th>\n",
       "      <th>Type[T.Condominium]</th>\n",
       "      <th>Type[T.Corner Terrace]</th>\n",
       "      <th>Type[T.Detached House]</th>\n",
       "      <th>Type[T.Executive Condominium]</th>\n",
       "      <th>Type[T.HDB]</th>\n",
       "      <th>Type[T.Semi-Detached House]</th>\n",
       "      <th>Type[T.Terraced House]</th>\n",
       "      <th>Type[T.Walk-up]</th>\n",
       "    </tr>\n",
       "  </thead>\n",
       "  <tbody>\n",
       "    <tr>\n",
       "      <th>2</th>\n",
       "      <td>1.0</td>\n",
       "      <td>0.0</td>\n",
       "      <td>0.0</td>\n",
       "      <td>1.0</td>\n",
       "      <td>0.0</td>\n",
       "      <td>0.0</td>\n",
       "      <td>0.0</td>\n",
       "      <td>0.0</td>\n",
       "      <td>0.0</td>\n",
       "      <td>0.0</td>\n",
       "      <td>0.0</td>\n",
       "    </tr>\n",
       "    <tr>\n",
       "      <th>3</th>\n",
       "      <td>1.0</td>\n",
       "      <td>0.0</td>\n",
       "      <td>0.0</td>\n",
       "      <td>0.0</td>\n",
       "      <td>0.0</td>\n",
       "      <td>0.0</td>\n",
       "      <td>0.0</td>\n",
       "      <td>1.0</td>\n",
       "      <td>0.0</td>\n",
       "      <td>0.0</td>\n",
       "      <td>0.0</td>\n",
       "    </tr>\n",
       "    <tr>\n",
       "      <th>4</th>\n",
       "      <td>1.0</td>\n",
       "      <td>0.0</td>\n",
       "      <td>0.0</td>\n",
       "      <td>0.0</td>\n",
       "      <td>0.0</td>\n",
       "      <td>0.0</td>\n",
       "      <td>0.0</td>\n",
       "      <td>0.0</td>\n",
       "      <td>1.0</td>\n",
       "      <td>0.0</td>\n",
       "      <td>0.0</td>\n",
       "    </tr>\n",
       "    <tr>\n",
       "      <th>5</th>\n",
       "      <td>1.0</td>\n",
       "      <td>0.0</td>\n",
       "      <td>0.0</td>\n",
       "      <td>1.0</td>\n",
       "      <td>0.0</td>\n",
       "      <td>0.0</td>\n",
       "      <td>0.0</td>\n",
       "      <td>0.0</td>\n",
       "      <td>0.0</td>\n",
       "      <td>0.0</td>\n",
       "      <td>0.0</td>\n",
       "    </tr>\n",
       "    <tr>\n",
       "      <th>7</th>\n",
       "      <td>1.0</td>\n",
       "      <td>0.0</td>\n",
       "      <td>0.0</td>\n",
       "      <td>1.0</td>\n",
       "      <td>0.0</td>\n",
       "      <td>0.0</td>\n",
       "      <td>0.0</td>\n",
       "      <td>0.0</td>\n",
       "      <td>0.0</td>\n",
       "      <td>0.0</td>\n",
       "      <td>0.0</td>\n",
       "    </tr>\n",
       "  </tbody>\n",
       "</table>\n",
       "</div>"
      ],
      "text/plain": [
       "   Intercept  Type[T.Bungalow House]  Type[T.Cluster House]  \\\n",
       "2        1.0                     0.0                    0.0   \n",
       "3        1.0                     0.0                    0.0   \n",
       "4        1.0                     0.0                    0.0   \n",
       "5        1.0                     0.0                    0.0   \n",
       "7        1.0                     0.0                    0.0   \n",
       "\n",
       "   Type[T.Condominium]  Type[T.Corner Terrace]  Type[T.Detached House]  \\\n",
       "2                  1.0                     0.0                     0.0   \n",
       "3                  0.0                     0.0                     0.0   \n",
       "4                  0.0                     0.0                     0.0   \n",
       "5                  1.0                     0.0                     0.0   \n",
       "7                  1.0                     0.0                     0.0   \n",
       "\n",
       "   Type[T.Executive Condominium]  Type[T.HDB]  Type[T.Semi-Detached House]  \\\n",
       "2                            0.0          0.0                          0.0   \n",
       "3                            0.0          1.0                          0.0   \n",
       "4                            0.0          0.0                          1.0   \n",
       "5                            0.0          0.0                          0.0   \n",
       "7                            0.0          0.0                          0.0   \n",
       "\n",
       "   Type[T.Terraced House]  Type[T.Walk-up]  \n",
       "2                     0.0              0.0  \n",
       "3                     0.0              0.0  \n",
       "4                     0.0              0.0  \n",
       "5                     0.0              0.0  \n",
       "7                     0.0              0.0  "
      ]
     },
     "execution_count": 106,
     "metadata": {},
     "output_type": "execute_result"
    }
   ],
   "source": [
    "X.head()"
   ]
  },
  {
   "cell_type": "code",
   "execution_count": 107,
   "metadata": {},
   "outputs": [],
   "source": [
    "link_main_list_df2 = link_main_list_df2.join(X)"
   ]
  },
  {
   "cell_type": "code",
   "execution_count": 108,
   "metadata": {},
   "outputs": [
    {
     "data": {
      "text/html": [
       "<table class=\"simpletable\">\n",
       "<caption>OLS Regression Results</caption>\n",
       "<tr>\n",
       "  <th>Dep. Variable:</th>        <td>log_price</td>    <th>  R-squared:         </th> <td>   0.813</td> \n",
       "</tr>\n",
       "<tr>\n",
       "  <th>Model:</th>                   <td>OLS</td>       <th>  Adj. R-squared:    </th> <td>   0.809</td> \n",
       "</tr>\n",
       "<tr>\n",
       "  <th>Method:</th>             <td>Least Squares</td>  <th>  F-statistic:       </th> <td>   185.3</td> \n",
       "</tr>\n",
       "<tr>\n",
       "  <th>Date:</th>             <td>Sun, 20 Sep 2020</td> <th>  Prob (F-statistic):</th> <td>1.47e-206</td>\n",
       "</tr>\n",
       "<tr>\n",
       "  <th>Time:</th>                 <td>02:12:46</td>     <th>  Log-Likelihood:    </th> <td> -213.86</td> \n",
       "</tr>\n",
       "<tr>\n",
       "  <th>No. Observations:</th>      <td>   612</td>      <th>  AIC:               </th> <td>   457.7</td> \n",
       "</tr>\n",
       "<tr>\n",
       "  <th>Df Residuals:</th>          <td>   597</td>      <th>  BIC:               </th> <td>   524.0</td> \n",
       "</tr>\n",
       "<tr>\n",
       "  <th>Df Model:</th>              <td>    14</td>      <th>                     </th>     <td> </td>    \n",
       "</tr>\n",
       "<tr>\n",
       "  <th>Covariance Type:</th>      <td>nonrobust</td>    <th>                     </th>     <td> </td>    \n",
       "</tr>\n",
       "</table>\n",
       "<table class=\"simpletable\">\n",
       "<tr>\n",
       "                <td></td>                   <th>coef</th>     <th>std err</th>      <th>t</th>      <th>P>|t|</th>  <th>[0.025</th>    <th>0.975]</th>  \n",
       "</tr>\n",
       "<tr>\n",
       "  <th>no_of_bedrms</th>                  <td>    0.0356</td> <td>    0.029</td> <td>    1.224</td> <td> 0.222</td> <td>   -0.022</td> <td>    0.093</td>\n",
       "</tr>\n",
       "<tr>\n",
       "  <th>no_of_bathrms</th>                 <td>    0.1423</td> <td>    0.030</td> <td>    4.765</td> <td> 0.000</td> <td>    0.084</td> <td>    0.201</td>\n",
       "</tr>\n",
       "<tr>\n",
       "  <th>Floor_Area</th>                    <td>    0.0004</td> <td> 3.17e-05</td> <td>   11.996</td> <td> 0.000</td> <td>    0.000</td> <td>    0.000</td>\n",
       "</tr>\n",
       "<tr>\n",
       "  <th>Age</th>                           <td>   -0.0020</td> <td>    0.001</td> <td>   -1.541</td> <td> 0.124</td> <td>   -0.004</td> <td>    0.001</td>\n",
       "</tr>\n",
       "<tr>\n",
       "  <th>Intercept</th>                     <td>   13.4667</td> <td>    0.060</td> <td>  225.463</td> <td> 0.000</td> <td>   13.349</td> <td>   13.584</td>\n",
       "</tr>\n",
       "<tr>\n",
       "  <th>Type[T.Bungalow House]</th>        <td>   -0.3785</td> <td>    0.227</td> <td>   -1.667</td> <td> 0.096</td> <td>   -0.824</td> <td>    0.067</td>\n",
       "</tr>\n",
       "<tr>\n",
       "  <th>Type[T.Cluster House]</th>         <td>   -0.8079</td> <td>    0.214</td> <td>   -3.780</td> <td> 0.000</td> <td>   -1.228</td> <td>   -0.388</td>\n",
       "</tr>\n",
       "<tr>\n",
       "  <th>Type[T.Condominium]</th>           <td>   -0.0508</td> <td>    0.048</td> <td>   -1.048</td> <td> 0.295</td> <td>   -0.146</td> <td>    0.044</td>\n",
       "</tr>\n",
       "<tr>\n",
       "  <th>Type[T.Corner Terrace]</th>        <td>   -0.7809</td> <td>    0.127</td> <td>   -6.129</td> <td> 0.000</td> <td>   -1.031</td> <td>   -0.531</td>\n",
       "</tr>\n",
       "<tr>\n",
       "  <th>Type[T.Detached House]</th>        <td>   -0.5827</td> <td>    0.169</td> <td>   -3.454</td> <td> 0.001</td> <td>   -0.914</td> <td>   -0.251</td>\n",
       "</tr>\n",
       "<tr>\n",
       "  <th>Type[T.Executive Condominium]</th> <td>   -0.4649</td> <td>    0.093</td> <td>   -4.994</td> <td> 0.000</td> <td>   -0.648</td> <td>   -0.282</td>\n",
       "</tr>\n",
       "<tr>\n",
       "  <th>Type[T.HDB]</th>                   <td>   -0.9561</td> <td>    0.056</td> <td>  -17.068</td> <td> 0.000</td> <td>   -1.066</td> <td>   -0.846</td>\n",
       "</tr>\n",
       "<tr>\n",
       "  <th>Type[T.Semi-Detached House]</th>   <td>   -0.9564</td> <td>    0.133</td> <td>   -7.195</td> <td> 0.000</td> <td>   -1.217</td> <td>   -0.695</td>\n",
       "</tr>\n",
       "<tr>\n",
       "  <th>Type[T.Terraced House]</th>        <td>   -0.7569</td> <td>    0.104</td> <td>   -7.272</td> <td> 0.000</td> <td>   -0.961</td> <td>   -0.552</td>\n",
       "</tr>\n",
       "<tr>\n",
       "  <th>Type[T.Walk-up]</th>               <td>   -0.6827</td> <td>    0.362</td> <td>   -1.883</td> <td> 0.060</td> <td>   -1.395</td> <td>    0.029</td>\n",
       "</tr>\n",
       "</table>\n",
       "<table class=\"simpletable\">\n",
       "<tr>\n",
       "  <th>Omnibus:</th>       <td>39.875</td> <th>  Durbin-Watson:     </th> <td>   1.748</td>\n",
       "</tr>\n",
       "<tr>\n",
       "  <th>Prob(Omnibus):</th> <td> 0.000</td> <th>  Jarque-Bera (JB):  </th> <td> 151.175</td>\n",
       "</tr>\n",
       "<tr>\n",
       "  <th>Skew:</th>          <td> 0.084</td> <th>  Prob(JB):          </th> <td>1.49e-33</td>\n",
       "</tr>\n",
       "<tr>\n",
       "  <th>Kurtosis:</th>      <td> 5.429</td> <th>  Cond. No.          </th> <td>4.90e+04</td>\n",
       "</tr>\n",
       "</table><br/><br/>Notes:<br/>[1] Standard Errors assume that the covariance matrix of the errors is correctly specified.<br/>[2] The condition number is large, 4.9e+04. This might indicate that there are<br/>strong multicollinearity or other numerical problems."
      ],
      "text/plain": [
       "<class 'statsmodels.iolib.summary.Summary'>\n",
       "\"\"\"\n",
       "                            OLS Regression Results                            \n",
       "==============================================================================\n",
       "Dep. Variable:              log_price   R-squared:                       0.813\n",
       "Model:                            OLS   Adj. R-squared:                  0.809\n",
       "Method:                 Least Squares   F-statistic:                     185.3\n",
       "Date:                Sun, 20 Sep 2020   Prob (F-statistic):          1.47e-206\n",
       "Time:                        02:12:46   Log-Likelihood:                -213.86\n",
       "No. Observations:                 612   AIC:                             457.7\n",
       "Df Residuals:                     597   BIC:                             524.0\n",
       "Df Model:                          14                                         \n",
       "Covariance Type:            nonrobust                                         \n",
       "=================================================================================================\n",
       "                                    coef    std err          t      P>|t|      [0.025      0.975]\n",
       "-------------------------------------------------------------------------------------------------\n",
       "no_of_bedrms                      0.0356      0.029      1.224      0.222      -0.022       0.093\n",
       "no_of_bathrms                     0.1423      0.030      4.765      0.000       0.084       0.201\n",
       "Floor_Area                        0.0004   3.17e-05     11.996      0.000       0.000       0.000\n",
       "Age                              -0.0020      0.001     -1.541      0.124      -0.004       0.001\n",
       "Intercept                        13.4667      0.060    225.463      0.000      13.349      13.584\n",
       "Type[T.Bungalow House]           -0.3785      0.227     -1.667      0.096      -0.824       0.067\n",
       "Type[T.Cluster House]            -0.8079      0.214     -3.780      0.000      -1.228      -0.388\n",
       "Type[T.Condominium]              -0.0508      0.048     -1.048      0.295      -0.146       0.044\n",
       "Type[T.Corner Terrace]           -0.7809      0.127     -6.129      0.000      -1.031      -0.531\n",
       "Type[T.Detached House]           -0.5827      0.169     -3.454      0.001      -0.914      -0.251\n",
       "Type[T.Executive Condominium]    -0.4649      0.093     -4.994      0.000      -0.648      -0.282\n",
       "Type[T.HDB]                      -0.9561      0.056    -17.068      0.000      -1.066      -0.846\n",
       "Type[T.Semi-Detached House]      -0.9564      0.133     -7.195      0.000      -1.217      -0.695\n",
       "Type[T.Terraced House]           -0.7569      0.104     -7.272      0.000      -0.961      -0.552\n",
       "Type[T.Walk-up]                  -0.6827      0.362     -1.883      0.060      -1.395       0.029\n",
       "==============================================================================\n",
       "Omnibus:                       39.875   Durbin-Watson:                   1.748\n",
       "Prob(Omnibus):                  0.000   Jarque-Bera (JB):              151.175\n",
       "Skew:                           0.084   Prob(JB):                     1.49e-33\n",
       "Kurtosis:                       5.429   Cond. No.                     4.90e+04\n",
       "==============================================================================\n",
       "\n",
       "Notes:\n",
       "[1] Standard Errors assume that the covariance matrix of the errors is correctly specified.\n",
       "[2] The condition number is large, 4.9e+04. This might indicate that there are\n",
       "strong multicollinearity or other numerical problems.\n",
       "\"\"\""
      ]
     },
     "execution_count": 108,
     "metadata": {},
     "output_type": "execute_result"
    }
   ],
   "source": [
    "import statsmodels.api as sm\n",
    "\n",
    "y = link_main_list_df2.log_price\n",
    "x = link_main_list_df2.drop(['log_price', 'price'], 1)\n",
    "\n",
    "lsm = sm.OLS(y,x)\n",
    "\n",
    "fit = lsm.fit()\n",
    "\n",
    "fit.summary()"
   ]
  },
  {
   "cell_type": "code",
   "execution_count": 109,
   "metadata": {},
   "outputs": [],
   "source": [
    "link_main_list_df2.to_csv('main_list_Type.CSV')"
   ]
  },
  {
   "cell_type": "code",
   "execution_count": null,
   "metadata": {},
   "outputs": [],
   "source": []
  },
  {
   "cell_type": "code",
   "execution_count": null,
   "metadata": {},
   "outputs": [],
   "source": []
  },
  {
   "cell_type": "code",
   "execution_count": null,
   "metadata": {},
   "outputs": [],
   "source": []
  }
 ],
 "metadata": {
  "kernelspec": {
   "display_name": "Python [conda env:metis] *",
   "language": "python",
   "name": "conda-env-metis-py"
  },
  "language_info": {
   "codemirror_mode": {
    "name": "ipython",
    "version": 3
   },
   "file_extension": ".py",
   "mimetype": "text/x-python",
   "name": "python",
   "nbconvert_exporter": "python",
   "pygments_lexer": "ipython3",
   "version": "3.7.8"
  }
 },
 "nbformat": 4,
 "nbformat_minor": 2
}
